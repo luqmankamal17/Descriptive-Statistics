{
 "cells": [
  {
   "cell_type": "markdown",
   "metadata": {},
   "source": [
    "<img src=\"../images/cads-logo.png\" style=\"height: 100px;\" align=left> \n",
    "<img src=\"../images/python-logo.png\" style=\"height: 100px;\" align=right>"
   ]
  },
  {
   "cell_type": "markdown",
   "metadata": {},
   "source": [
    "# Sampling\n",
    "\n",
    "Descriptive Statistics"
   ]
  },
  {
   "cell_type": "code",
   "execution_count": 1,
   "metadata": {},
   "outputs": [],
   "source": [
    "import numpy as np \n",
    "import pandas as pd\n",
    "import seaborn as sns "
   ]
  },
  {
   "cell_type": "code",
   "execution_count": 2,
   "metadata": {},
   "outputs": [
    {
     "data": {
      "text/plain": [
       "True"
      ]
     },
     "execution_count": 2,
     "metadata": {},
     "output_type": "execute_result"
    }
   ],
   "source": [
    "import platform\n",
    "\n",
    "sns.__version__ >= \"0.9.0\"\n",
    "pd.__version__ >= \"0.23.4\"\n",
    "np.__version__ >= \"1.15.4\"\n",
    "platform.python_version() >= \"3.6\""
   ]
  },
  {
   "cell_type": "markdown",
   "metadata": {},
   "source": [
    "# Content Outline\n",
    "1. [**Introduction**](#intro)\n",
    "    * [Motivation](#motivation)\n",
    "    * [Populations](#populations): Sub-populations\n",
    "    * [Samples](#samples): Homogenous and Heterogeneous Samples\n",
    "    * [Sampling Frames and Sampling Units](#frames)\n",
    "\n",
    "\n",
    "2. [**Sampling Methodologies**](#methods)\n",
    "    * [Probabilistic Sampling](#prob): Simple Random Sampling, Stratified Sampling, Cluster Sampling, Systematic Sampling, Multistage Sampling\n",
    "    * [Non-probabilistic Sampling](#noprob): Convenience Sampling, Volunteer Sampling\n",
    "\n",
    "\n",
    "3. [**The Effect of Sample Size on Bias**](#effect)\n",
    "    * [Determining the Minimum Number of Voters to Sample](#power)\n",
    "\n",
    "\n",
    "4. [**Summary**](#summary)"
   ]
  },
  {
   "cell_type": "code",
   "execution_count": 3,
   "metadata": {},
   "outputs": [],
   "source": [
    "import random\n",
    "random.seed(42)"
   ]
  },
  {
   "cell_type": "markdown",
   "metadata": {},
   "source": [
    "# 1. Introduction <a name=\"intro\"></a>\n",
    "\n",
    "## Motivation <a name=\"motivation\"></a>\n",
    "\n",
    "![](../images/voter.png)\n",
    "\n",
    "In a state of approximately 60,000 residents there are two candidates running for the post of Member of Parliament (MP) - Candidate A and Candidate B. A political analyst would like to determine whether the voting residents favor one candidate over the other. To accomplish this, he decides to run a poll for all voting residents of the state.\n",
    "\n",
    "Based on the above scenario, take a minute to give your thoughts on the following:\n",
    "1. Would it be possible to poll every single voting resident of the state? \n",
    "2. What would be the cost of such an exercise?\n",
    "3. Can we employ some strategy to obtain a reasonably similar result without expending as much resources?\n",
    "\n",
    "Thankfully we can save quite a bit of time (and money!) by polling only a portion of the voters and with the magic of statistics, make reasonable inferences about the voting preferences of all voters in the state. This process is called **sampling**."
   ]
  },
  {
   "cell_type": "markdown",
   "metadata": {},
   "source": [
    "## Populations\n",
    "Before we dive deep into the process of sampling, let's first take a look at some preliminary concepts to start ourselves off on solid ground. In our motivational example above, the object of our interest is the voting preferences of the state's 60,000 residents, i.e. we are interested in knowing the vote of *all* voting residents in the town. In statistical terms, the set of all these voting residents is called a **population**. Simply put, a population is the set that contains **all** elements of interest for a particular study, and it exists to ensure that we don't draw observations from data unrelated to the problem at hand.\n",
    "\n",
    "The definition of what constitutes a population is highly dependent on the context of the study, and to this extent a little bit of domain knowledge goes a long way."
   ]
  },
  {
   "cell_type": "markdown",
   "metadata": {},
   "source": [
    "<div class = \"alert alert-block alert-info\">\n",
    "<b>Example</b>\n",
    "<p>\n",
    "1. A researcher wishes to study the effect of steroid use in the National Football League (NFL). The population defined here would be the set of all active professional players in the NFL.\n",
    "<p>\n",
    "2. A grocery store owner would like to identify the most popular cereal he has on sale. The population defined here would be the set of all cereal products he currently sells at the store.\n",
    "<p>\n",
    "3. The Human Resource Department at KFRU, a large radio station, is interested in evaluating the effect of internal training programs on their staff. The population defined here would be the set of all current employees in the company.\n",
    "</div>"
   ]
  },
  {
   "cell_type": "markdown",
   "metadata": {},
   "source": [
    "In each of the above cases, the elements of interest are either people (NFL players, employees) or products (cereals) are said to be **members** of the population."
   ]
  },
  {
   "cell_type": "markdown",
   "metadata": {},
   "source": [
    "<div class = \"alert alert-block alert-warning\">\n",
    "<b>Guided Exercise</b>\n",
    "<p>\n",
    "A. Suppose that you want to determine the movie preferences of students at a given university. Who/what are the members in your population?\n",
    "<p>\n",
    "B. Suppose that you would like to study the job satisfaction of teachers in international schools in KL. Who/what are the members in your population?\n",
    "<p>\n",
    "</div>"
   ]
  },
  {
   "cell_type": "raw",
   "metadata": {},
   "source": [
    "# Type your answer here.\n",
    "A. All students at the university.\n",
    "B. All teachers working at international schools in KL. "
   ]
  },
  {
   "cell_type": "markdown",
   "metadata": {},
   "source": [
    "### Sub-populations\n",
    "\n",
    "In many cases, a population can be divided into smaller groups called **sub-populations**, allowing us to narrow down our point of interest. For example, the population of all employees in a given company can be further split into all *male* employees in the company and all *female* employees in the company. Sub-populations can be defined by any chosen characteristic, but the division must obey two rules:\n",
    "1. A member of one group cannot belong to another group. (**mutually exclusive**)\n",
    "2. Each member in the population belongs to a group. (**collectively exhaustive**)\n",
    "\n",
    "![](../images/subpopulations2.png)"
   ]
  },
  {
   "cell_type": "markdown",
   "metadata": {},
   "source": [
    "<div class = \"alert alert-block alert-info\">\n",
    "<b>Example</b>\n",
    "<p>\n",
    "Recall the Human Resource Department at KFRU from our previous example. We can sub-divide the population of all employees to the <i>employees from each department</i>.\n",
    "</div>"
   ]
  },
  {
   "cell_type": "markdown",
   "metadata": {},
   "source": [
    "There is no restriction on the number of sub-populations (as how we define a sub-population is subject to domain knowledge), and we can even go further to sub-divide the sub-populations itself!"
   ]
  },
  {
   "cell_type": "markdown",
   "metadata": {},
   "source": [
    "<div class = \"alert alert-block alert-info\">\n",
    "<b>Example</b>\n",
    "<p>\n",
    "We can divide the employees in the Human Resource Department into <i>male</i> and <i>female</i> employees of the department.\n",
    "</div>"
   ]
  },
  {
   "cell_type": "markdown",
   "metadata": {},
   "source": [
    "Now, you may be wondering - do I really need to take every single sub-population into account?\n",
    "\n",
    "Well, the answer is **no**. Sub-populations can safely be **ignored** if they aren't *perceived to have an impact* on the *object of interest* in our study."
   ]
  },
  {
   "cell_type": "markdown",
   "metadata": {},
   "source": [
    "<div class = \"alert alert-block alert-info\">\n",
    "<b>Example</b>\n",
    "<p>\n",
    "We wish to study the average income of a fresh graduate in KL but we are <i>not interested</i> in knowing if there is a significant difference in income between male and female fresh graduates. In such a case, we ignore the sub-populations of male and female fresh graduates and treat them as one whole set.\n",
    "</div>"
   ]
  },
  {
   "cell_type": "markdown",
   "metadata": {},
   "source": [
    "<div class = \"alert alert-block alert-warning\">\n",
    "<b>Guided Exercise</b>\n",
    "<p>\n",
    "The <code>voter</code> data set for the state in our motivational example has been pre-loaded and summarized for you below. Examine the output and discuss how we can construct various sub-populations from the data.\n",
    "</div>"
   ]
  },
  {
   "cell_type": "code",
   "execution_count": 4,
   "metadata": {},
   "outputs": [],
   "source": [
    "dtype = {'state_seat': str, \n",
    "         'polling_district': str, \n",
    "         'postcode': str}\n",
    "voter = pd.read_csv('../data/voter.csv', dtype = dtype, \n",
    "                    usecols = np.arange(1, 7))"
   ]
  },
  {
   "cell_type": "code",
   "execution_count": 5,
   "metadata": {},
   "outputs": [
    {
     "data": {
      "text/html": [
       "<div>\n",
       "<style scoped>\n",
       "    .dataframe tbody tr th:only-of-type {\n",
       "        vertical-align: middle;\n",
       "    }\n",
       "\n",
       "    .dataframe tbody tr th {\n",
       "        vertical-align: top;\n",
       "    }\n",
       "\n",
       "    .dataframe thead th {\n",
       "        text-align: right;\n",
       "    }\n",
       "</style>\n",
       "<table border=\"1\" class=\"dataframe\">\n",
       "  <thead>\n",
       "    <tr style=\"text-align: right;\">\n",
       "      <th></th>\n",
       "      <th>gender</th>\n",
       "      <th>ic</th>\n",
       "      <th>state_seat</th>\n",
       "      <th>polling_district</th>\n",
       "      <th>ethnicity</th>\n",
       "      <th>postcode</th>\n",
       "    </tr>\n",
       "  </thead>\n",
       "  <tbody>\n",
       "    <tr>\n",
       "      <th>0</th>\n",
       "      <td>Male</td>\n",
       "      <td>661123-06-4031</td>\n",
       "      <td>3</td>\n",
       "      <td>44</td>\n",
       "      <td>Bumiputera</td>\n",
       "      <td>17750</td>\n",
       "    </tr>\n",
       "    <tr>\n",
       "      <th>1</th>\n",
       "      <td>Female</td>\n",
       "      <td>871217-06-8098</td>\n",
       "      <td>3</td>\n",
       "      <td>41</td>\n",
       "      <td>Bumiputera</td>\n",
       "      <td>17710</td>\n",
       "    </tr>\n",
       "    <tr>\n",
       "      <th>2</th>\n",
       "      <td>Male</td>\n",
       "      <td>761213-33-3923</td>\n",
       "      <td>2</td>\n",
       "      <td>29</td>\n",
       "      <td>Bumiputera</td>\n",
       "      <td>17500</td>\n",
       "    </tr>\n",
       "    <tr>\n",
       "      <th>3</th>\n",
       "      <td>Male</td>\n",
       "      <td>610407-33-9219</td>\n",
       "      <td>1</td>\n",
       "      <td>7</td>\n",
       "      <td>Bumiputera</td>\n",
       "      <td>17180</td>\n",
       "    </tr>\n",
       "    <tr>\n",
       "      <th>4</th>\n",
       "      <td>Male</td>\n",
       "      <td>600920-06-5171</td>\n",
       "      <td>2</td>\n",
       "      <td>23</td>\n",
       "      <td>Bumiputera</td>\n",
       "      <td>17440</td>\n",
       "    </tr>\n",
       "  </tbody>\n",
       "</table>\n",
       "</div>"
      ],
      "text/plain": [
       "   gender              ic state_seat polling_district   ethnicity postcode\n",
       "0    Male  661123-06-4031          3               44  Bumiputera    17750\n",
       "1  Female  871217-06-8098          3               41  Bumiputera    17710\n",
       "2    Male  761213-33-3923          2               29  Bumiputera    17500\n",
       "3    Male  610407-33-9219          1                7  Bumiputera    17180\n",
       "4    Male  600920-06-5171          2               23  Bumiputera    17440"
      ]
     },
     "execution_count": 5,
     "metadata": {},
     "output_type": "execute_result"
    }
   ],
   "source": [
    "voter.head()"
   ]
  },
  {
   "cell_type": "code",
   "execution_count": 6,
   "metadata": {},
   "outputs": [
    {
     "name": "stdout",
     "output_type": "stream",
     "text": [
      "<class 'pandas.core.frame.DataFrame'>\n",
      "RangeIndex: 51998 entries, 0 to 51997\n",
      "Data columns (total 6 columns):\n",
      " #   Column            Non-Null Count  Dtype \n",
      "---  ------            --------------  ----- \n",
      " 0   gender            51998 non-null  object\n",
      " 1   ic                51998 non-null  object\n",
      " 2   state_seat        51998 non-null  object\n",
      " 3   polling_district  51998 non-null  object\n",
      " 4   ethnicity         51998 non-null  object\n",
      " 5   postcode          51998 non-null  object\n",
      "dtypes: object(6)\n",
      "memory usage: 2.4+ MB\n"
     ]
    }
   ],
   "source": [
    "voter.info()"
   ]
  },
  {
   "cell_type": "code",
   "execution_count": 7,
   "metadata": {},
   "outputs": [
    {
     "data": {
      "text/html": [
       "<div>\n",
       "<style scoped>\n",
       "    .dataframe tbody tr th:only-of-type {\n",
       "        vertical-align: middle;\n",
       "    }\n",
       "\n",
       "    .dataframe tbody tr th {\n",
       "        vertical-align: top;\n",
       "    }\n",
       "\n",
       "    .dataframe thead th {\n",
       "        text-align: right;\n",
       "    }\n",
       "</style>\n",
       "<table border=\"1\" class=\"dataframe\">\n",
       "  <thead>\n",
       "    <tr style=\"text-align: right;\">\n",
       "      <th></th>\n",
       "      <th>gender</th>\n",
       "      <th>ic</th>\n",
       "      <th>state_seat</th>\n",
       "      <th>polling_district</th>\n",
       "      <th>ethnicity</th>\n",
       "      <th>postcode</th>\n",
       "    </tr>\n",
       "  </thead>\n",
       "  <tbody>\n",
       "    <tr>\n",
       "      <th>count</th>\n",
       "      <td>51998</td>\n",
       "      <td>51998</td>\n",
       "      <td>51998</td>\n",
       "      <td>51998</td>\n",
       "      <td>51998</td>\n",
       "      <td>51998</td>\n",
       "    </tr>\n",
       "    <tr>\n",
       "      <th>unique</th>\n",
       "      <td>2</td>\n",
       "      <td>51998</td>\n",
       "      <td>3</td>\n",
       "      <td>46</td>\n",
       "      <td>4</td>\n",
       "      <td>52</td>\n",
       "    </tr>\n",
       "    <tr>\n",
       "      <th>top</th>\n",
       "      <td>Female</td>\n",
       "      <td>881008-32-5775</td>\n",
       "      <td>3</td>\n",
       "      <td>28</td>\n",
       "      <td>Bumiputera</td>\n",
       "      <td>17470</td>\n",
       "    </tr>\n",
       "    <tr>\n",
       "      <th>freq</th>\n",
       "      <td>26232</td>\n",
       "      <td>1</td>\n",
       "      <td>20182</td>\n",
       "      <td>1662</td>\n",
       "      <td>36318</td>\n",
       "      <td>1594</td>\n",
       "    </tr>\n",
       "  </tbody>\n",
       "</table>\n",
       "</div>"
      ],
      "text/plain": [
       "        gender              ic state_seat polling_district   ethnicity  \\\n",
       "count    51998           51998      51998            51998       51998   \n",
       "unique       2           51998          3               46           4   \n",
       "top     Female  881008-32-5775          3               28  Bumiputera   \n",
       "freq     26232               1      20182             1662       36318   \n",
       "\n",
       "       postcode  \n",
       "count     51998  \n",
       "unique       52  \n",
       "top       17470  \n",
       "freq       1594  "
      ]
     },
     "execution_count": 7,
     "metadata": {},
     "output_type": "execute_result"
    }
   ],
   "source": [
    "voter.describe()"
   ]
  },
  {
   "cell_type": "raw",
   "metadata": {},
   "source": [
    "# Type your answer here.\n",
    "There are 5 attributes that can be used to form sub-populations:\n",
    "1. Gender\n",
    "2. State Seat\n",
    "3. Polling District\n",
    "4. Ethnicity\n",
    "5. Postcode"
   ]
  },
  {
   "cell_type": "markdown",
   "metadata": {},
   "source": [
    "<div class = \"alert alert-block alert-danger\">\n",
    "<b>Exercise</b>\n",
    "<p>\n",
    "The KFRU <code>HR</code> data set has been pre-loaded and summarized for you below. Examine the head of the DataFrame and discuss how we can construct various sub-populations from the data.\n",
    "</div>"
   ]
  },
  {
   "cell_type": "code",
   "execution_count": 8,
   "metadata": {
    "scrolled": false
   },
   "outputs": [
    {
     "data": {
      "text/html": [
       "<div>\n",
       "<style scoped>\n",
       "    .dataframe tbody tr th:only-of-type {\n",
       "        vertical-align: middle;\n",
       "    }\n",
       "\n",
       "    .dataframe tbody tr th {\n",
       "        vertical-align: top;\n",
       "    }\n",
       "\n",
       "    .dataframe thead th {\n",
       "        text-align: right;\n",
       "    }\n",
       "</style>\n",
       "<table border=\"1\" class=\"dataframe\">\n",
       "  <thead>\n",
       "    <tr style=\"text-align: right;\">\n",
       "      <th></th>\n",
       "      <th>0</th>\n",
       "      <th>1</th>\n",
       "      <th>2</th>\n",
       "      <th>3</th>\n",
       "      <th>4</th>\n",
       "    </tr>\n",
       "  </thead>\n",
       "  <tbody>\n",
       "    <tr>\n",
       "      <th>EmployeeName</th>\n",
       "      <td>Brown, Mia</td>\n",
       "      <td>LaRotonda, William</td>\n",
       "      <td>Steans, Tyrone</td>\n",
       "      <td>Howard, Estelle</td>\n",
       "      <td>Singh, Nan</td>\n",
       "    </tr>\n",
       "    <tr>\n",
       "      <th>EmployeeNumber</th>\n",
       "      <td>1103024456</td>\n",
       "      <td>1106026572</td>\n",
       "      <td>1302053333</td>\n",
       "      <td>1211050782</td>\n",
       "      <td>1307059817</td>\n",
       "    </tr>\n",
       "    <tr>\n",
       "      <th>State</th>\n",
       "      <td>MA</td>\n",
       "      <td>MA</td>\n",
       "      <td>MA</td>\n",
       "      <td>MA</td>\n",
       "      <td>MA</td>\n",
       "    </tr>\n",
       "    <tr>\n",
       "      <th>Zip</th>\n",
       "      <td>1450</td>\n",
       "      <td>1460</td>\n",
       "      <td>2703</td>\n",
       "      <td>2170</td>\n",
       "      <td>2330</td>\n",
       "    </tr>\n",
       "    <tr>\n",
       "      <th>DOB</th>\n",
       "      <td>11/24/1985</td>\n",
       "      <td>4/26/1984</td>\n",
       "      <td>09/01/1986</td>\n",
       "      <td>9/16/1985</td>\n",
       "      <td>5/19/1988</td>\n",
       "    </tr>\n",
       "    <tr>\n",
       "      <th>Age</th>\n",
       "      <td>32</td>\n",
       "      <td>33</td>\n",
       "      <td>31</td>\n",
       "      <td>32</td>\n",
       "      <td>29</td>\n",
       "    </tr>\n",
       "    <tr>\n",
       "      <th>Sex</th>\n",
       "      <td>Female</td>\n",
       "      <td>Male</td>\n",
       "      <td>Male</td>\n",
       "      <td>Female</td>\n",
       "      <td>Female</td>\n",
       "    </tr>\n",
       "    <tr>\n",
       "      <th>MaritalDesc</th>\n",
       "      <td>Married</td>\n",
       "      <td>Divorced</td>\n",
       "      <td>Single</td>\n",
       "      <td>Married</td>\n",
       "      <td>Single</td>\n",
       "    </tr>\n",
       "    <tr>\n",
       "      <th>CitizenDesc</th>\n",
       "      <td>US Citizen</td>\n",
       "      <td>US Citizen</td>\n",
       "      <td>US Citizen</td>\n",
       "      <td>US Citizen</td>\n",
       "      <td>US Citizen</td>\n",
       "    </tr>\n",
       "    <tr>\n",
       "      <th>HispanicLatino</th>\n",
       "      <td>No</td>\n",
       "      <td>No</td>\n",
       "      <td>No</td>\n",
       "      <td>No</td>\n",
       "      <td>No</td>\n",
       "    </tr>\n",
       "    <tr>\n",
       "      <th>RaceDesc</th>\n",
       "      <td>Black or African American</td>\n",
       "      <td>Black or African American</td>\n",
       "      <td>White</td>\n",
       "      <td>White</td>\n",
       "      <td>White</td>\n",
       "    </tr>\n",
       "    <tr>\n",
       "      <th>DateOfHire</th>\n",
       "      <td>10/27/2008</td>\n",
       "      <td>01/06/2014</td>\n",
       "      <td>9/29/2014</td>\n",
       "      <td>2/16/2015</td>\n",
       "      <td>05/01/2015</td>\n",
       "    </tr>\n",
       "    <tr>\n",
       "      <th>DateOfTermination</th>\n",
       "      <td>NaT</td>\n",
       "      <td>NaT</td>\n",
       "      <td>NaT</td>\n",
       "      <td>2015-04-15 00:00:00</td>\n",
       "      <td>NaT</td>\n",
       "    </tr>\n",
       "    <tr>\n",
       "      <th>ReasonForTermination</th>\n",
       "      <td>N/A - still employed</td>\n",
       "      <td>N/A - still employed</td>\n",
       "      <td>N/A - still employed</td>\n",
       "      <td>N/A - still employed</td>\n",
       "      <td>N/A - still employed</td>\n",
       "    </tr>\n",
       "    <tr>\n",
       "      <th>EmploymentStatus</th>\n",
       "      <td>Active</td>\n",
       "      <td>Active</td>\n",
       "      <td>Active</td>\n",
       "      <td>Active</td>\n",
       "      <td>Active</td>\n",
       "    </tr>\n",
       "    <tr>\n",
       "      <th>Department</th>\n",
       "      <td>Admin Offices</td>\n",
       "      <td>Admin Offices</td>\n",
       "      <td>Admin Offices</td>\n",
       "      <td>Admin Offices</td>\n",
       "      <td>Admin Offices</td>\n",
       "    </tr>\n",
       "    <tr>\n",
       "      <th>Position</th>\n",
       "      <td>Accountant I</td>\n",
       "      <td>Accountant I</td>\n",
       "      <td>Accountant I</td>\n",
       "      <td>Administrative Assistant</td>\n",
       "      <td>Administrative Assistant</td>\n",
       "    </tr>\n",
       "    <tr>\n",
       "      <th>PayRate</th>\n",
       "      <td>28.5</td>\n",
       "      <td>23</td>\n",
       "      <td>29</td>\n",
       "      <td>21.5</td>\n",
       "      <td>16.56</td>\n",
       "    </tr>\n",
       "    <tr>\n",
       "      <th>ManagerName</th>\n",
       "      <td>Brandon R. LeBlanc</td>\n",
       "      <td>Brandon R. LeBlanc</td>\n",
       "      <td>Brandon R. LeBlanc</td>\n",
       "      <td>Brandon R. LeBlanc</td>\n",
       "      <td>Brandon R. LeBlanc</td>\n",
       "    </tr>\n",
       "    <tr>\n",
       "      <th>EmployeeSource</th>\n",
       "      <td>Diversity Job Fair</td>\n",
       "      <td>Website Banner Ads</td>\n",
       "      <td>Internet Search</td>\n",
       "      <td>Pay Per Click - Google</td>\n",
       "      <td>Website Banner Ads</td>\n",
       "    </tr>\n",
       "    <tr>\n",
       "      <th>PerformanceScore</th>\n",
       "      <td>Fully Meets</td>\n",
       "      <td>Fully Meets</td>\n",
       "      <td>Fully Meets</td>\n",
       "      <td>N/A- too early to review</td>\n",
       "      <td>N/A- too early to review</td>\n",
       "    </tr>\n",
       "  </tbody>\n",
       "</table>\n",
       "</div>"
      ],
      "text/plain": [
       "                                              0                          1  \\\n",
       "EmployeeName                         Brown, Mia       LaRotonda, William     \n",
       "EmployeeNumber                       1103024456                 1106026572   \n",
       "State                                        MA                         MA   \n",
       "Zip                                        1450                       1460   \n",
       "DOB                                  11/24/1985                  4/26/1984   \n",
       "Age                                          32                         33   \n",
       "Sex                                      Female                       Male   \n",
       "MaritalDesc                             Married                   Divorced   \n",
       "CitizenDesc                          US Citizen                 US Citizen   \n",
       "HispanicLatino                               No                         No   \n",
       "RaceDesc              Black or African American  Black or African American   \n",
       "DateOfHire                           10/27/2008                 01/06/2014   \n",
       "DateOfTermination                           NaT                        NaT   \n",
       "ReasonForTermination       N/A - still employed       N/A - still employed   \n",
       "EmploymentStatus                         Active                     Active   \n",
       "Department                        Admin Offices              Admin Offices   \n",
       "Position                           Accountant I               Accountant I   \n",
       "PayRate                                    28.5                         23   \n",
       "ManagerName                  Brandon R. LeBlanc         Brandon R. LeBlanc   \n",
       "EmployeeSource               Diversity Job Fair         Website Banner Ads   \n",
       "PerformanceScore                    Fully Meets                Fully Meets   \n",
       "\n",
       "                                         2                         3  \\\n",
       "EmployeeName              Steans, Tyrone             Howard, Estelle   \n",
       "EmployeeNumber                  1302053333                1211050782   \n",
       "State                                   MA                        MA   \n",
       "Zip                                   2703                      2170   \n",
       "DOB                             09/01/1986                 9/16/1985   \n",
       "Age                                     31                        32   \n",
       "Sex                                   Male                    Female   \n",
       "MaritalDesc                         Single                   Married   \n",
       "CitizenDesc                     US Citizen                US Citizen   \n",
       "HispanicLatino                          No                        No   \n",
       "RaceDesc                             White                     White   \n",
       "DateOfHire                       9/29/2014                 2/16/2015   \n",
       "DateOfTermination                      NaT       2015-04-15 00:00:00   \n",
       "ReasonForTermination  N/A - still employed      N/A - still employed   \n",
       "EmploymentStatus                    Active                    Active   \n",
       "Department                   Admin Offices             Admin Offices   \n",
       "Position                      Accountant I  Administrative Assistant   \n",
       "PayRate                                 29                      21.5   \n",
       "ManagerName             Brandon R. LeBlanc        Brandon R. LeBlanc   \n",
       "EmployeeSource             Internet Search    Pay Per Click - Google   \n",
       "PerformanceScore               Fully Meets  N/A- too early to review   \n",
       "\n",
       "                                             4  \n",
       "EmployeeName                       Singh, Nan   \n",
       "EmployeeNumber                      1307059817  \n",
       "State                                       MA  \n",
       "Zip                                       2330  \n",
       "DOB                                  5/19/1988  \n",
       "Age                                         29  \n",
       "Sex                                     Female  \n",
       "MaritalDesc                             Single  \n",
       "CitizenDesc                         US Citizen  \n",
       "HispanicLatino                              No  \n",
       "RaceDesc                                 White  \n",
       "DateOfHire                          05/01/2015  \n",
       "DateOfTermination                          NaT  \n",
       "ReasonForTermination      N/A - still employed  \n",
       "EmploymentStatus                        Active  \n",
       "Department                       Admin Offices  \n",
       "Position              Administrative Assistant  \n",
       "PayRate                                  16.56  \n",
       "ManagerName                 Brandon R. LeBlanc  \n",
       "EmployeeSource              Website Banner Ads  \n",
       "PerformanceScore      N/A- too early to review  "
      ]
     },
     "execution_count": 8,
     "metadata": {},
     "output_type": "execute_result"
    }
   ],
   "source": [
    "dtype = {'Employee.Number': str, \n",
    "         'Zip': str }\n",
    "hr = pd.read_csv('../data/hr.csv', dtype = dtype, parse_dates = [5, 12, 13])\n",
    "hr.head().T"
   ]
  },
  {
   "cell_type": "code",
   "execution_count": 9,
   "metadata": {},
   "outputs": [
    {
     "data": {
      "text/html": [
       "<div>\n",
       "<style scoped>\n",
       "    .dataframe tbody tr th:only-of-type {\n",
       "        vertical-align: middle;\n",
       "    }\n",
       "\n",
       "    .dataframe tbody tr th {\n",
       "        vertical-align: top;\n",
       "    }\n",
       "\n",
       "    .dataframe thead th {\n",
       "        text-align: right;\n",
       "    }\n",
       "</style>\n",
       "<table border=\"1\" class=\"dataframe\">\n",
       "  <thead>\n",
       "    <tr style=\"text-align: right;\">\n",
       "      <th></th>\n",
       "      <th>count</th>\n",
       "      <th>unique</th>\n",
       "      <th>top</th>\n",
       "      <th>freq</th>\n",
       "    </tr>\n",
       "  </thead>\n",
       "  <tbody>\n",
       "    <tr>\n",
       "      <th>EmployeeName</th>\n",
       "      <td>301</td>\n",
       "      <td>301</td>\n",
       "      <td>Wallace, Courtney  E</td>\n",
       "      <td>1</td>\n",
       "    </tr>\n",
       "    <tr>\n",
       "      <th>State</th>\n",
       "      <td>301</td>\n",
       "      <td>28</td>\n",
       "      <td>MA</td>\n",
       "      <td>266</td>\n",
       "    </tr>\n",
       "    <tr>\n",
       "      <th>Zip</th>\n",
       "      <td>301</td>\n",
       "      <td>157</td>\n",
       "      <td>1886</td>\n",
       "      <td>12</td>\n",
       "    </tr>\n",
       "    <tr>\n",
       "      <th>DOB</th>\n",
       "      <td>301</td>\n",
       "      <td>298</td>\n",
       "      <td>09/09/1965</td>\n",
       "      <td>2</td>\n",
       "    </tr>\n",
       "    <tr>\n",
       "      <th>Age</th>\n",
       "      <td>301</td>\n",
       "      <td>39</td>\n",
       "      <td>31</td>\n",
       "      <td>22</td>\n",
       "    </tr>\n",
       "    <tr>\n",
       "      <th>Sex</th>\n",
       "      <td>301</td>\n",
       "      <td>2</td>\n",
       "      <td>Female</td>\n",
       "      <td>174</td>\n",
       "    </tr>\n",
       "    <tr>\n",
       "      <th>MaritalDesc</th>\n",
       "      <td>301</td>\n",
       "      <td>5</td>\n",
       "      <td>Single</td>\n",
       "      <td>127</td>\n",
       "    </tr>\n",
       "    <tr>\n",
       "      <th>CitizenDesc</th>\n",
       "      <td>301</td>\n",
       "      <td>3</td>\n",
       "      <td>US Citizen</td>\n",
       "      <td>285</td>\n",
       "    </tr>\n",
       "    <tr>\n",
       "      <th>HispanicLatino</th>\n",
       "      <td>301</td>\n",
       "      <td>4</td>\n",
       "      <td>No</td>\n",
       "      <td>271</td>\n",
       "    </tr>\n",
       "    <tr>\n",
       "      <th>RaceDesc</th>\n",
       "      <td>301</td>\n",
       "      <td>6</td>\n",
       "      <td>White</td>\n",
       "      <td>190</td>\n",
       "    </tr>\n",
       "    <tr>\n",
       "      <th>DateOfHire</th>\n",
       "      <td>301</td>\n",
       "      <td>93</td>\n",
       "      <td>01/10/2011</td>\n",
       "      <td>14</td>\n",
       "    </tr>\n",
       "    <tr>\n",
       "      <th>ReasonForTermination</th>\n",
       "      <td>301</td>\n",
       "      <td>17</td>\n",
       "      <td>N/A - still employed</td>\n",
       "      <td>188</td>\n",
       "    </tr>\n",
       "    <tr>\n",
       "      <th>EmploymentStatus</th>\n",
       "      <td>301</td>\n",
       "      <td>5</td>\n",
       "      <td>Active</td>\n",
       "      <td>174</td>\n",
       "    </tr>\n",
       "    <tr>\n",
       "      <th>Department</th>\n",
       "      <td>301</td>\n",
       "      <td>6</td>\n",
       "      <td>Production</td>\n",
       "      <td>208</td>\n",
       "    </tr>\n",
       "    <tr>\n",
       "      <th>Position</th>\n",
       "      <td>301</td>\n",
       "      <td>24</td>\n",
       "      <td>Production Technician I</td>\n",
       "      <td>136</td>\n",
       "    </tr>\n",
       "    <tr>\n",
       "      <th>ManagerName</th>\n",
       "      <td>301</td>\n",
       "      <td>20</td>\n",
       "      <td>Michael Albert</td>\n",
       "      <td>22</td>\n",
       "    </tr>\n",
       "    <tr>\n",
       "      <th>EmployeeSource</th>\n",
       "      <td>301</td>\n",
       "      <td>22</td>\n",
       "      <td>Employee Referral</td>\n",
       "      <td>31</td>\n",
       "    </tr>\n",
       "    <tr>\n",
       "      <th>PerformanceScore</th>\n",
       "      <td>301</td>\n",
       "      <td>7</td>\n",
       "      <td>Fully Meets</td>\n",
       "      <td>172</td>\n",
       "    </tr>\n",
       "  </tbody>\n",
       "</table>\n",
       "</div>"
      ],
      "text/plain": [
       "                     count unique                      top freq\n",
       "EmployeeName           301    301     Wallace, Courtney  E    1\n",
       "State                  301     28                       MA  266\n",
       "Zip                    301    157                     1886   12\n",
       "DOB                    301    298               09/09/1965    2\n",
       "Age                    301     39                       31   22\n",
       "Sex                    301      2                   Female  174\n",
       "MaritalDesc            301      5                   Single  127\n",
       "CitizenDesc            301      3               US Citizen  285\n",
       "HispanicLatino         301      4                       No  271\n",
       "RaceDesc               301      6                    White  190\n",
       "DateOfHire             301     93               01/10/2011   14\n",
       "ReasonForTermination   301     17     N/A - still employed  188\n",
       "EmploymentStatus       301      5                   Active  174\n",
       "Department             301      6        Production         208\n",
       "Position               301     24  Production Technician I  136\n",
       "ManagerName            301     20           Michael Albert   22\n",
       "EmployeeSource         301     22        Employee Referral   31\n",
       "PerformanceScore       301      7              Fully Meets  172"
      ]
     },
     "execution_count": 9,
     "metadata": {},
     "output_type": "execute_result"
    }
   ],
   "source": [
    "# MC\n",
    "# Type your answer here.\n",
    "# Specify the data types to examine the categorical variables only.\n",
    "\n",
    "hr.describe(include='object').T"
   ]
  },
  {
   "cell_type": "code",
   "execution_count": null,
   "metadata": {},
   "outputs": [],
   "source": [
    "# MC\n",
    "# What attributes can be used to form sub-populations?\n",
    "\n",
    "# There are 11 attributes that can be used to form sub-populations:\n",
    "# 1. Zip\n",
    "# 2. Age\n",
    "# 3. Sex\n",
    "# 4. Marital Status\n",
    "# 5. Citizenship Status\n",
    "# 6. Racial Descent\n",
    "# 7. Employment Status\n",
    "# 8. Department\n",
    "# 9. Position\n",
    "# 10. Employee Source\n",
    "# 11. Performance Score"
   ]
  },
  {
   "cell_type": "markdown",
   "metadata": {},
   "source": [
    "## Samples\n",
    "As indicated in the beginning of this course, surveying an entire population can be a costly affair, and in most cases it is impossible to collate data from every single member of a population. By selecting/drawing a subset of the population, we obtain a **sample**, which can be used to estimate the properties of the population it is drawn from. We can draw as many samples as we want from a population, and we can even dictate the **size** of the samples, i.e. the *number of members in the sample*.\n",
    "\n",
    "![](../images/pop_spl.png)\n",
    "\n",
    "To avoid confusion, we commonly denote the size of a sample by $n$, and the size of a population by $N$. Sample sizes are restricted to the range $1 \\leq n \\leq N$ as selecting none of the members yields nothing, and we cannot select more members than there are in the population. In the case of the diagram above, we have a population of size $N=18$, with two samples of size $n_1=3$ and $n_2=2$ respectively."
   ]
  },
  {
   "cell_type": "markdown",
   "metadata": {},
   "source": [
    "<div class = \"alert alert-block alert-info\">\n",
    "<b>Example</b>\n",
    "<p>\n",
    "Recall the example where we wished to study the average income of a fresh graduate in KL. Suppose that there are a total of N = 20,000 fresh graduates working in the city. To <i>draw</i> a sample of size n = 100, we would <b>select</b> 100 fresh graduates from this group of 20,000 to inquire about their income.\n",
    "</div>"
   ]
  },
  {
   "cell_type": "markdown",
   "metadata": {},
   "source": [
    "Samples can be drawn in **two** ways - *with* or *without* replacement. To illustrate the differences between these techniques, consider the following scenario:\n",
    "\n",
    "Three colored balls are available to be drawn from a box - one blue, one orange, and one green. We would like to draw a sample of 2 balls and record the colors. The acts of drawing a ball are defined as follows:\n",
    "\n",
    "**Drawing *with* replacement:** A ball is drawn and its color is recorded. The ball is then put back in the box before the second draw to be made.\n",
    "\n",
    "**Drawing *without* replacement:** A ball is drawn and its color is recorded. The ball is **not** put back in the box before the second draw to be made.\n",
    "\n",
    "The diagram below gives the odds of obtaining a ball of a specific color for the first and second draw.\n",
    "\n",
    "![](../images/replacement.png)\n",
    "\n",
    "Note that on the first draw, both techniques have the same odds - 1 in 3 of obtaining a ball in each color. However, this no longer the case once the second ball is drawn. If the first ball drawn was not placed back in the box before the second draw, the odds of obtaining a ball of a different color than the first has now gone up to 1 in 2!\n",
    "\n",
    "Sampling of real-world data is generally done **without replacement**. Sampling with replacement on the other hand is used in *oversampling* techniques, which are commonly employed in machine learning (and beyond the scope of this course)."
   ]
  },
  {
   "cell_type": "markdown",
   "metadata": {},
   "source": [
    "### Homogenous and Heterogeneous Samples\n",
    "\n",
    "Samples are classified as **homogeneous** or **heterogenous** based on the members they contain, with the former having all members drawn from the *same sub-population* and the latter having members drawn from *multiple sub-populations*. The diagram below illustrates the difference between homogeneous and hetereogeneous samples:\n",
    "\n",
    "![](../images/hom_het_sam.png)\n",
    "\n",
    "Here we have a population that can be broken into two sub-populations. Samples that contain only members of *one* sub-population are deemed homogenous, and samples that contain members of *both* sub-populations are deemed heterogeneous."
   ]
  },
  {
   "cell_type": "markdown",
   "metadata": {},
   "source": [
    "<div class = \"alert alert-block alert-info\">\n",
    "<b>Example</b>\n",
    "<p>\n",
    "Suppose our population is defined as \"All employees in KFRU.\"\n",
    "<p>\n",
    "<b>Homogeneous sample:</b>\n",
    "<p>\n",
    "A sample of size $n = 25$ where all sample members are from IT.\n",
    "<p>\n",
    "<b>Heterogeneous sample:</b>\n",
    "<p>\n",
    "A sample of size $n = 25$, where 13 sample members are from IT, 2 are from Production, and the remainder are from Sales.\n",
    "</div>"
   ]
  },
  {
   "cell_type": "markdown",
   "metadata": {},
   "source": [
    "In the interest of ensuring that our samples accurately reflect the demographic proportions of the population, we often strive to draw samples with the same ratio of members across the various types to that of the population. As you can very well guess, obtaining an exact ratio isn't always possible if you fix the sample size so for cases such as these we favor sampling a **proportion** of the population.\n",
    "\n",
    "![](../images/rep_sam.png)\n",
    "\n",
    "In the above illustration, the population has a $1:1:1$ ratio between its 3 sub-populations. Taking a sample with the same ratio of members to that of the sub-population ratio results in what we call a **representative sample**. Conversely, if a sample is not representative we say it is **biased**. Numerical measures such as *mean* and *variance* for a biased sample do not accurately reflect that of the population and if used for business decision making can potentially lead to disastrous results."
   ]
  },
  {
   "cell_type": "markdown",
   "metadata": {},
   "source": [
    "<div class = \"alert alert-block alert-info\">\n",
    "<b>Example</b>\n",
    "<p>\n",
    "In a company there are 3 senior, 6 mid-level, and 9 junior employees.\n",
    "<p>\n",
    "<b>Representative sample:</b> A sample of size $n = 6$ consisting of 1 senior, 2 mid-level, and 3 junior employees. This amounts to sampling $30\\%$ of the population.\n",
    "<p>\n",
    "<b>Biased sample:</b> A sample of size $n = 6$ consisting of 3 senior and 3 mid-level employees.\n",
    "</div>"
   ]
  },
  {
   "cell_type": "markdown",
   "metadata": {},
   "source": [
    "<div class = \"alert alert-block alert-warning\">\n",
    "<b>Guided Exercise</b>\n",
    "<p>\n",
    "    Using the <code>voter</code> data set, draw the following sample:\n",
    "<p>\n",
    "    A sample of 200 voters (without replacement) from <code>polling_district</code> 16. Assign this to the variable <code>mysample1</code> and examine the resulting sample using the <code>describe</code> method.\n",
    "</div>"
   ]
  },
  {
   "cell_type": "code",
   "execution_count": 22,
   "metadata": {},
   "outputs": [],
   "source": [
    "np.random.seed(42)\n",
    "\n",
    "mysample1 = voter.loc[voter.polling_district == \"16\",].sample(n = 200, replace = False)"
   ]
  },
  {
   "cell_type": "code",
   "execution_count": 23,
   "metadata": {},
   "outputs": [
    {
     "data": {
      "text/html": [
       "<div>\n",
       "<style scoped>\n",
       "    .dataframe tbody tr th:only-of-type {\n",
       "        vertical-align: middle;\n",
       "    }\n",
       "\n",
       "    .dataframe tbody tr th {\n",
       "        vertical-align: top;\n",
       "    }\n",
       "\n",
       "    .dataframe thead th {\n",
       "        text-align: right;\n",
       "    }\n",
       "</style>\n",
       "<table border=\"1\" class=\"dataframe\">\n",
       "  <thead>\n",
       "    <tr style=\"text-align: right;\">\n",
       "      <th></th>\n",
       "      <th>gender</th>\n",
       "      <th>ic</th>\n",
       "      <th>state_seat</th>\n",
       "      <th>polling_district</th>\n",
       "      <th>ethnicity</th>\n",
       "      <th>postcode</th>\n",
       "    </tr>\n",
       "  </thead>\n",
       "  <tbody>\n",
       "    <tr>\n",
       "      <th>count</th>\n",
       "      <td>200</td>\n",
       "      <td>200</td>\n",
       "      <td>200</td>\n",
       "      <td>200</td>\n",
       "      <td>200</td>\n",
       "      <td>200</td>\n",
       "    </tr>\n",
       "    <tr>\n",
       "      <th>unique</th>\n",
       "      <td>2</td>\n",
       "      <td>200</td>\n",
       "      <td>1</td>\n",
       "      <td>1</td>\n",
       "      <td>4</td>\n",
       "      <td>3</td>\n",
       "    </tr>\n",
       "    <tr>\n",
       "      <th>top</th>\n",
       "      <td>Female</td>\n",
       "      <td>760811-33-1644</td>\n",
       "      <td>1</td>\n",
       "      <td>16</td>\n",
       "      <td>Bumiputera</td>\n",
       "      <td>17250</td>\n",
       "    </tr>\n",
       "    <tr>\n",
       "      <th>freq</th>\n",
       "      <td>107</td>\n",
       "      <td>1</td>\n",
       "      <td>200</td>\n",
       "      <td>200</td>\n",
       "      <td>139</td>\n",
       "      <td>72</td>\n",
       "    </tr>\n",
       "  </tbody>\n",
       "</table>\n",
       "</div>"
      ],
      "text/plain": [
       "        gender              ic state_seat polling_district   ethnicity  \\\n",
       "count      200             200        200              200         200   \n",
       "unique       2             200          1                1           4   \n",
       "top     Female  760811-33-1644          1               16  Bumiputera   \n",
       "freq       107               1        200              200         139   \n",
       "\n",
       "       postcode  \n",
       "count       200  \n",
       "unique        3  \n",
       "top       17250  \n",
       "freq         72  "
      ]
     },
     "execution_count": 23,
     "metadata": {},
     "output_type": "execute_result"
    }
   ],
   "source": [
    "mysample1.describe()"
   ]
  },
  {
   "cell_type": "code",
   "execution_count": 24,
   "metadata": {
    "scrolled": true
   },
   "outputs": [
    {
     "data": {
      "text/html": [
       "<div>\n",
       "<style scoped>\n",
       "    .dataframe tbody tr th:only-of-type {\n",
       "        vertical-align: middle;\n",
       "    }\n",
       "\n",
       "    .dataframe tbody tr th {\n",
       "        vertical-align: top;\n",
       "    }\n",
       "\n",
       "    .dataframe thead th {\n",
       "        text-align: right;\n",
       "    }\n",
       "</style>\n",
       "<table border=\"1\" class=\"dataframe\">\n",
       "  <thead>\n",
       "    <tr style=\"text-align: right;\">\n",
       "      <th></th>\n",
       "      <th>gender</th>\n",
       "      <th>ic</th>\n",
       "      <th>state_seat</th>\n",
       "      <th>polling_district</th>\n",
       "      <th>ethnicity</th>\n",
       "      <th>postcode</th>\n",
       "    </tr>\n",
       "  </thead>\n",
       "  <tbody>\n",
       "    <tr>\n",
       "      <th>count</th>\n",
       "      <td>51998</td>\n",
       "      <td>51998</td>\n",
       "      <td>51998</td>\n",
       "      <td>51998</td>\n",
       "      <td>51998</td>\n",
       "      <td>51998</td>\n",
       "    </tr>\n",
       "    <tr>\n",
       "      <th>unique</th>\n",
       "      <td>2</td>\n",
       "      <td>51998</td>\n",
       "      <td>3</td>\n",
       "      <td>46</td>\n",
       "      <td>4</td>\n",
       "      <td>52</td>\n",
       "    </tr>\n",
       "    <tr>\n",
       "      <th>top</th>\n",
       "      <td>Female</td>\n",
       "      <td>881008-32-5775</td>\n",
       "      <td>3</td>\n",
       "      <td>28</td>\n",
       "      <td>Bumiputera</td>\n",
       "      <td>17470</td>\n",
       "    </tr>\n",
       "    <tr>\n",
       "      <th>freq</th>\n",
       "      <td>26232</td>\n",
       "      <td>1</td>\n",
       "      <td>20182</td>\n",
       "      <td>1662</td>\n",
       "      <td>36318</td>\n",
       "      <td>1594</td>\n",
       "    </tr>\n",
       "  </tbody>\n",
       "</table>\n",
       "</div>"
      ],
      "text/plain": [
       "        gender              ic state_seat polling_district   ethnicity  \\\n",
       "count    51998           51998      51998            51998       51998   \n",
       "unique       2           51998          3               46           4   \n",
       "top     Female  881008-32-5775          3               28  Bumiputera   \n",
       "freq     26232               1      20182             1662       36318   \n",
       "\n",
       "       postcode  \n",
       "count     51998  \n",
       "unique       52  \n",
       "top       17470  \n",
       "freq       1594  "
      ]
     },
     "execution_count": 24,
     "metadata": {},
     "output_type": "execute_result"
    }
   ],
   "source": [
    "voter.describe()"
   ]
  },
  {
   "cell_type": "code",
   "execution_count": 25,
   "metadata": {},
   "outputs": [
    {
     "data": {
      "text/plain": [
       "Female    1.060496\n",
       "Male      0.938410\n",
       "Name: gender, dtype: float64"
      ]
     },
     "execution_count": 25,
     "metadata": {},
     "output_type": "execute_result"
    }
   ],
   "source": [
    "mysample1.gender.value_counts(normalize=True)/voter.gender.value_counts(normalize=True)"
   ]
  },
  {
   "cell_type": "code",
   "execution_count": 26,
   "metadata": {},
   "outputs": [
    {
     "data": {
      "text/plain": [
       "Bumiputera    0.995061\n",
       "Cina          1.380827\n",
       "India         0.738189\n",
       "Lain-lain     0.913136\n",
       "Name: ethnicity, dtype: float64"
      ]
     },
     "execution_count": 26,
     "metadata": {},
     "output_type": "execute_result"
    }
   ],
   "source": [
    "mysample1.ethnicity.value_counts(normalize=True)/voter.ethnicity.value_counts(normalize=True)"
   ]
  },
  {
   "cell_type": "raw",
   "metadata": {},
   "source": [
    "# MC\n",
    "# Type your answer here.\n",
    "\n",
    "1. The sample obtained is heterogeneous with respect to gender/ethnicity and it is good representative.\n",
    "2. The sample is not representative regarding state_seat."
   ]
  },
  {
   "cell_type": "markdown",
   "metadata": {},
   "source": [
    "<div class = \"alert alert-block alert-danger\">\n",
    "<b>Exercise</b>\n",
    "<p>\n",
    "    Using the <code>hr</code> data set, draw the following sample:\n",
    "<p>\n",
    "A sample of 20 employees (without replacement) from the <code>IT/IS</code> department. Assign this to a variable of your choice and examine if the resulting sample is representative using <code>describe</code>.\n",
    "</div>"
   ]
  },
  {
   "cell_type": "code",
   "execution_count": 27,
   "metadata": {},
   "outputs": [
    {
     "data": {
      "text/plain": [
       "array(['Admin Offices', 'Executive Office', 'IT/IS', 'Production       ',\n",
       "       'Sales', 'Software Engineering'], dtype=object)"
      ]
     },
     "execution_count": 27,
     "metadata": {},
     "output_type": "execute_result"
    }
   ],
   "source": [
    "hr.Department.unique()"
   ]
  },
  {
   "cell_type": "code",
   "execution_count": 28,
   "metadata": {},
   "outputs": [
    {
     "data": {
      "text/html": [
       "<div>\n",
       "<style scoped>\n",
       "    .dataframe tbody tr th:only-of-type {\n",
       "        vertical-align: middle;\n",
       "    }\n",
       "\n",
       "    .dataframe tbody tr th {\n",
       "        vertical-align: top;\n",
       "    }\n",
       "\n",
       "    .dataframe thead th {\n",
       "        text-align: right;\n",
       "    }\n",
       "</style>\n",
       "<table border=\"1\" class=\"dataframe\">\n",
       "  <thead>\n",
       "    <tr style=\"text-align: right;\">\n",
       "      <th></th>\n",
       "      <th>EmployeeName</th>\n",
       "      <th>EmployeeNumber</th>\n",
       "      <th>State</th>\n",
       "      <th>Zip</th>\n",
       "      <th>DOB</th>\n",
       "      <th>Age</th>\n",
       "      <th>Sex</th>\n",
       "      <th>MaritalDesc</th>\n",
       "      <th>CitizenDesc</th>\n",
       "      <th>HispanicLatino</th>\n",
       "      <th>...</th>\n",
       "      <th>DateOfHire</th>\n",
       "      <th>DateOfTermination</th>\n",
       "      <th>ReasonForTermination</th>\n",
       "      <th>EmploymentStatus</th>\n",
       "      <th>Department</th>\n",
       "      <th>Position</th>\n",
       "      <th>PayRate</th>\n",
       "      <th>ManagerName</th>\n",
       "      <th>EmployeeSource</th>\n",
       "      <th>PerformanceScore</th>\n",
       "    </tr>\n",
       "  </thead>\n",
       "  <tbody>\n",
       "    <tr>\n",
       "      <th>35</th>\n",
       "      <td>Cisco, Anthony</td>\n",
       "      <td>1102024173</td>\n",
       "      <td>MA</td>\n",
       "      <td>2135</td>\n",
       "      <td>11/24/1989</td>\n",
       "      <td>28</td>\n",
       "      <td>Male</td>\n",
       "      <td>Married</td>\n",
       "      <td>US Citizen</td>\n",
       "      <td>Yes</td>\n",
       "      <td>...</td>\n",
       "      <td>3/30/2015</td>\n",
       "      <td>NaT</td>\n",
       "      <td>N/A - still employed</td>\n",
       "      <td>Active</td>\n",
       "      <td>IT/IS</td>\n",
       "      <td>Network Engineer</td>\n",
       "      <td>42.00</td>\n",
       "      <td>Peter Monroe</td>\n",
       "      <td>Information Session</td>\n",
       "      <td>N/A- too early to review</td>\n",
       "    </tr>\n",
       "    <tr>\n",
       "      <th>24</th>\n",
       "      <td>Zhou, Julia</td>\n",
       "      <td>1110029732</td>\n",
       "      <td>MA</td>\n",
       "      <td>2148</td>\n",
       "      <td>2/24/1979</td>\n",
       "      <td>38</td>\n",
       "      <td>Female</td>\n",
       "      <td>Single</td>\n",
       "      <td>US Citizen</td>\n",
       "      <td>No</td>\n",
       "      <td>...</td>\n",
       "      <td>3/30/2015</td>\n",
       "      <td>NaT</td>\n",
       "      <td>N/A - still employed</td>\n",
       "      <td>Active</td>\n",
       "      <td>IT/IS</td>\n",
       "      <td>Database Administrator</td>\n",
       "      <td>31.40</td>\n",
       "      <td>Simon Roup</td>\n",
       "      <td>Employee Referral</td>\n",
       "      <td>90-day meets</td>\n",
       "    </tr>\n",
       "    <tr>\n",
       "      <th>19</th>\n",
       "      <td>Petrowsky, Thelma</td>\n",
       "      <td>1108027853</td>\n",
       "      <td>MA</td>\n",
       "      <td>1886</td>\n",
       "      <td>9/16/1984</td>\n",
       "      <td>33</td>\n",
       "      <td>Female</td>\n",
       "      <td>Married</td>\n",
       "      <td>US Citizen</td>\n",
       "      <td>No</td>\n",
       "      <td>...</td>\n",
       "      <td>11/10/2014</td>\n",
       "      <td>NaT</td>\n",
       "      <td>N/A - still employed</td>\n",
       "      <td>Active</td>\n",
       "      <td>IT/IS</td>\n",
       "      <td>Database Administrator</td>\n",
       "      <td>42.75</td>\n",
       "      <td>Simon Roup</td>\n",
       "      <td>Employee Referral</td>\n",
       "      <td>Exceptional</td>\n",
       "    </tr>\n",
       "    <tr>\n",
       "      <th>36</th>\n",
       "      <td>Dolan, Linda</td>\n",
       "      <td>1101023540</td>\n",
       "      <td>MA</td>\n",
       "      <td>2119</td>\n",
       "      <td>7/18/1988</td>\n",
       "      <td>29</td>\n",
       "      <td>Female</td>\n",
       "      <td>Married</td>\n",
       "      <td>US Citizen</td>\n",
       "      <td>No</td>\n",
       "      <td>...</td>\n",
       "      <td>01/05/2015</td>\n",
       "      <td>NaT</td>\n",
       "      <td>N/A - still employed</td>\n",
       "      <td>Active</td>\n",
       "      <td>IT/IS</td>\n",
       "      <td>Network Engineer</td>\n",
       "      <td>37.00</td>\n",
       "      <td>Peter Monroe</td>\n",
       "      <td>Employee Referral</td>\n",
       "      <td>90-day meets</td>\n",
       "    </tr>\n",
       "    <tr>\n",
       "      <th>15</th>\n",
       "      <td>Horton, Jayne</td>\n",
       "      <td>1105025718</td>\n",
       "      <td>MA</td>\n",
       "      <td>2493</td>\n",
       "      <td>2/21/1984</td>\n",
       "      <td>33</td>\n",
       "      <td>Female</td>\n",
       "      <td>Single</td>\n",
       "      <td>US Citizen</td>\n",
       "      <td>No</td>\n",
       "      <td>...</td>\n",
       "      <td>3/30/2015</td>\n",
       "      <td>NaT</td>\n",
       "      <td>N/A - still employed</td>\n",
       "      <td>Active</td>\n",
       "      <td>IT/IS</td>\n",
       "      <td>Database Administrator</td>\n",
       "      <td>34.00</td>\n",
       "      <td>Simon Roup</td>\n",
       "      <td>Glassdoor</td>\n",
       "      <td>N/A- too early to review</td>\n",
       "    </tr>\n",
       "    <tr>\n",
       "      <th>51</th>\n",
       "      <td>Warfield, Sarah</td>\n",
       "      <td>1301052347</td>\n",
       "      <td>MA</td>\n",
       "      <td>2453</td>\n",
       "      <td>05/02/1978</td>\n",
       "      <td>39</td>\n",
       "      <td>Female</td>\n",
       "      <td>widowed</td>\n",
       "      <td>US Citizen</td>\n",
       "      <td>No</td>\n",
       "      <td>...</td>\n",
       "      <td>3/30/2015</td>\n",
       "      <td>NaT</td>\n",
       "      <td>N/A - still employed</td>\n",
       "      <td>Active</td>\n",
       "      <td>IT/IS</td>\n",
       "      <td>Sr. Network Engineer</td>\n",
       "      <td>55.20</td>\n",
       "      <td>Peter Monroe</td>\n",
       "      <td>Employee Referral</td>\n",
       "      <td>N/A- too early to review</td>\n",
       "    </tr>\n",
       "    <tr>\n",
       "      <th>30</th>\n",
       "      <td>Clayton, Rick</td>\n",
       "      <td>1301052902</td>\n",
       "      <td>MA</td>\n",
       "      <td>2170</td>\n",
       "      <td>09/05/1985</td>\n",
       "      <td>32</td>\n",
       "      <td>Male</td>\n",
       "      <td>Single</td>\n",
       "      <td>US Citizen</td>\n",
       "      <td>No</td>\n",
       "      <td>...</td>\n",
       "      <td>09/05/2012</td>\n",
       "      <td>NaT</td>\n",
       "      <td>N/A - still employed</td>\n",
       "      <td>Active</td>\n",
       "      <td>IT/IS</td>\n",
       "      <td>IT Support</td>\n",
       "      <td>28.99</td>\n",
       "      <td>Eric Dougall</td>\n",
       "      <td>Glassdoor</td>\n",
       "      <td>Fully Meets</td>\n",
       "    </tr>\n",
       "    <tr>\n",
       "      <th>50</th>\n",
       "      <td>South, Joe</td>\n",
       "      <td>1308060959</td>\n",
       "      <td>CT</td>\n",
       "      <td>6278</td>\n",
       "      <td>09/09/1965</td>\n",
       "      <td>52</td>\n",
       "      <td>Male</td>\n",
       "      <td>Single</td>\n",
       "      <td>US Citizen</td>\n",
       "      <td>No</td>\n",
       "      <td>...</td>\n",
       "      <td>11/10/2014</td>\n",
       "      <td>NaT</td>\n",
       "      <td>N/A - still employed</td>\n",
       "      <td>Active</td>\n",
       "      <td>IT/IS</td>\n",
       "      <td>Sr. Network Engineer</td>\n",
       "      <td>53.00</td>\n",
       "      <td>Peter Monroe</td>\n",
       "      <td>Employee Referral</td>\n",
       "      <td>90-day meets</td>\n",
       "    </tr>\n",
       "    <tr>\n",
       "      <th>40</th>\n",
       "      <td>Shepard, Anita</td>\n",
       "      <td>906014183</td>\n",
       "      <td>MA</td>\n",
       "      <td>1773</td>\n",
       "      <td>4/14/1981</td>\n",
       "      <td>36</td>\n",
       "      <td>Female</td>\n",
       "      <td>Married</td>\n",
       "      <td>US Citizen</td>\n",
       "      <td>No</td>\n",
       "      <td>...</td>\n",
       "      <td>9/30/2014</td>\n",
       "      <td>NaT</td>\n",
       "      <td>N/A - still employed</td>\n",
       "      <td>Active</td>\n",
       "      <td>IT/IS</td>\n",
       "      <td>Network Engineer</td>\n",
       "      <td>47.00</td>\n",
       "      <td>Peter Monroe</td>\n",
       "      <td>Vendor Referral</td>\n",
       "      <td>Fully Meets</td>\n",
       "    </tr>\n",
       "    <tr>\n",
       "      <th>17</th>\n",
       "      <td>Murray, Thomas</td>\n",
       "      <td>1406068403</td>\n",
       "      <td>TX</td>\n",
       "      <td>78230</td>\n",
       "      <td>07/04/1988</td>\n",
       "      <td>29</td>\n",
       "      <td>Male</td>\n",
       "      <td>Divorced</td>\n",
       "      <td>US Citizen</td>\n",
       "      <td>No</td>\n",
       "      <td>...</td>\n",
       "      <td>11/10/2014</td>\n",
       "      <td>NaT</td>\n",
       "      <td>N/A - still employed</td>\n",
       "      <td>Active</td>\n",
       "      <td>IT/IS</td>\n",
       "      <td>Database Administrator</td>\n",
       "      <td>35.50</td>\n",
       "      <td>Simon Roup</td>\n",
       "      <td>Diversity Job Fair</td>\n",
       "      <td>Exceptional</td>\n",
       "    </tr>\n",
       "    <tr>\n",
       "      <th>37</th>\n",
       "      <td>Gonzalez, Maria</td>\n",
       "      <td>1988299991</td>\n",
       "      <td>MA</td>\n",
       "      <td>2472</td>\n",
       "      <td>4/16/1981</td>\n",
       "      <td>36</td>\n",
       "      <td>Female</td>\n",
       "      <td>Separated</td>\n",
       "      <td>US Citizen</td>\n",
       "      <td>Yes</td>\n",
       "      <td>...</td>\n",
       "      <td>01/05/2015</td>\n",
       "      <td>NaT</td>\n",
       "      <td>N/A - still employed</td>\n",
       "      <td>Active</td>\n",
       "      <td>IT/IS</td>\n",
       "      <td>Network Engineer</td>\n",
       "      <td>39.00</td>\n",
       "      <td>Peter Monroe</td>\n",
       "      <td>Employee Referral</td>\n",
       "      <td>Fully Meets</td>\n",
       "    </tr>\n",
       "    <tr>\n",
       "      <th>23</th>\n",
       "      <td>Simard, Kramer</td>\n",
       "      <td>808010278</td>\n",
       "      <td>MA</td>\n",
       "      <td>2110</td>\n",
       "      <td>02/08/1970</td>\n",
       "      <td>47</td>\n",
       "      <td>Male</td>\n",
       "      <td>Married</td>\n",
       "      <td>US Citizen</td>\n",
       "      <td>Yes</td>\n",
       "      <td>...</td>\n",
       "      <td>01/05/2015</td>\n",
       "      <td>NaT</td>\n",
       "      <td>N/A - still employed</td>\n",
       "      <td>Active</td>\n",
       "      <td>IT/IS</td>\n",
       "      <td>Database Administrator</td>\n",
       "      <td>30.20</td>\n",
       "      <td>Simon Roup</td>\n",
       "      <td>Employee Referral</td>\n",
       "      <td>90-day meets</td>\n",
       "    </tr>\n",
       "    <tr>\n",
       "      <th>28</th>\n",
       "      <td>Monroe, Peter</td>\n",
       "      <td>1011022863</td>\n",
       "      <td>MA</td>\n",
       "      <td>2134</td>\n",
       "      <td>10/05/1986</td>\n",
       "      <td>31</td>\n",
       "      <td>Male</td>\n",
       "      <td>Married</td>\n",
       "      <td>Eligible NonCitizen</td>\n",
       "      <td>Yes</td>\n",
       "      <td>...</td>\n",
       "      <td>2/15/2012</td>\n",
       "      <td>NaT</td>\n",
       "      <td>N/A - still employed</td>\n",
       "      <td>Active</td>\n",
       "      <td>IT/IS</td>\n",
       "      <td>IT Manager - Infra</td>\n",
       "      <td>63.00</td>\n",
       "      <td>Jennifer Zamora</td>\n",
       "      <td>Diversity Job Fair</td>\n",
       "      <td>Needs Improvement</td>\n",
       "    </tr>\n",
       "    <tr>\n",
       "      <th>20</th>\n",
       "      <td>Roby, Lori</td>\n",
       "      <td>1407068885</td>\n",
       "      <td>MA</td>\n",
       "      <td>1886</td>\n",
       "      <td>10/11/1981</td>\n",
       "      <td>36</td>\n",
       "      <td>Female</td>\n",
       "      <td>Married</td>\n",
       "      <td>US Citizen</td>\n",
       "      <td>No</td>\n",
       "      <td>...</td>\n",
       "      <td>2/16/2015</td>\n",
       "      <td>NaT</td>\n",
       "      <td>N/A - still employed</td>\n",
       "      <td>Active</td>\n",
       "      <td>IT/IS</td>\n",
       "      <td>Database Administrator</td>\n",
       "      <td>39.55</td>\n",
       "      <td>Simon Roup</td>\n",
       "      <td>Employee Referral</td>\n",
       "      <td>Fully Meets</td>\n",
       "    </tr>\n",
       "    <tr>\n",
       "      <th>26</th>\n",
       "      <td>Roup,Simon</td>\n",
       "      <td>1106026933</td>\n",
       "      <td>MA</td>\n",
       "      <td>2481</td>\n",
       "      <td>04/05/1973</td>\n",
       "      <td>44</td>\n",
       "      <td>Male</td>\n",
       "      <td>Single</td>\n",
       "      <td>US Citizen</td>\n",
       "      <td>No</td>\n",
       "      <td>...</td>\n",
       "      <td>1/20/2013</td>\n",
       "      <td>NaT</td>\n",
       "      <td>N/A - still employed</td>\n",
       "      <td>Active</td>\n",
       "      <td>IT/IS</td>\n",
       "      <td>IT Manager - DB</td>\n",
       "      <td>62.00</td>\n",
       "      <td>Jennifer Zamora</td>\n",
       "      <td>Professional Society</td>\n",
       "      <td>Fully Meets</td>\n",
       "    </tr>\n",
       "    <tr>\n",
       "      <th>43</th>\n",
       "      <td>Ait Sidi, Karthikeyan</td>\n",
       "      <td>1307060199</td>\n",
       "      <td>MA</td>\n",
       "      <td>2148</td>\n",
       "      <td>05/05/1975</td>\n",
       "      <td>42</td>\n",
       "      <td>Male</td>\n",
       "      <td>Married</td>\n",
       "      <td>US Citizen</td>\n",
       "      <td>No</td>\n",
       "      <td>...</td>\n",
       "      <td>3/30/2015</td>\n",
       "      <td>2016-06-16</td>\n",
       "      <td>career change</td>\n",
       "      <td>Voluntarily Terminated</td>\n",
       "      <td>IT/IS</td>\n",
       "      <td>Sr. DBA</td>\n",
       "      <td>62.00</td>\n",
       "      <td>Simon Roup</td>\n",
       "      <td>Company Intranet - Partner</td>\n",
       "      <td>Fully Meets</td>\n",
       "    </tr>\n",
       "    <tr>\n",
       "      <th>27</th>\n",
       "      <td>Ruiz, Ricardo</td>\n",
       "      <td>1001175250</td>\n",
       "      <td>MA</td>\n",
       "      <td>1915</td>\n",
       "      <td>01/04/1964</td>\n",
       "      <td>54</td>\n",
       "      <td>Male</td>\n",
       "      <td>Divorced</td>\n",
       "      <td>US Citizen</td>\n",
       "      <td>No</td>\n",
       "      <td>...</td>\n",
       "      <td>01/09/2012</td>\n",
       "      <td>2015-11-04</td>\n",
       "      <td>hours</td>\n",
       "      <td>Voluntarily Terminated</td>\n",
       "      <td>IT/IS</td>\n",
       "      <td>IT Manager - DB</td>\n",
       "      <td>21.00</td>\n",
       "      <td>Jennifer Zamora</td>\n",
       "      <td>Diversity Job Fair</td>\n",
       "      <td>Fully Meets</td>\n",
       "    </tr>\n",
       "    <tr>\n",
       "      <th>46</th>\n",
       "      <td>Roehrich, Bianca</td>\n",
       "      <td>1111030266</td>\n",
       "      <td>MA</td>\n",
       "      <td>2703</td>\n",
       "      <td>5/27/1973</td>\n",
       "      <td>44</td>\n",
       "      <td>Female</td>\n",
       "      <td>Single</td>\n",
       "      <td>US Citizen</td>\n",
       "      <td>Yes</td>\n",
       "      <td>...</td>\n",
       "      <td>01/05/2015</td>\n",
       "      <td>2015-11-10</td>\n",
       "      <td>Another position</td>\n",
       "      <td>Voluntarily Terminated</td>\n",
       "      <td>IT/IS</td>\n",
       "      <td>Sr. DBA</td>\n",
       "      <td>58.50</td>\n",
       "      <td>Simon Roup</td>\n",
       "      <td>Vendor Referral</td>\n",
       "      <td>90-day meets</td>\n",
       "    </tr>\n",
       "    <tr>\n",
       "      <th>45</th>\n",
       "      <td>Favis, Donald</td>\n",
       "      <td>1412071562</td>\n",
       "      <td>CT</td>\n",
       "      <td>6033</td>\n",
       "      <td>7/30/1964</td>\n",
       "      <td>53</td>\n",
       "      <td>Male</td>\n",
       "      <td>Single</td>\n",
       "      <td>US Citizen</td>\n",
       "      <td>No</td>\n",
       "      <td>...</td>\n",
       "      <td>2/17/2014</td>\n",
       "      <td>2016-02-19</td>\n",
       "      <td>hours</td>\n",
       "      <td>Terminated for Cause</td>\n",
       "      <td>IT/IS</td>\n",
       "      <td>Sr. DBA</td>\n",
       "      <td>58.20</td>\n",
       "      <td>Simon Roup</td>\n",
       "      <td>Vendor Referral</td>\n",
       "      <td>Fully Meets</td>\n",
       "    </tr>\n",
       "    <tr>\n",
       "      <th>11</th>\n",
       "      <td>Zamora, Jennifer</td>\n",
       "      <td>1112030816</td>\n",
       "      <td>MA</td>\n",
       "      <td>2067</td>\n",
       "      <td>8/30/1979</td>\n",
       "      <td>38</td>\n",
       "      <td>Female</td>\n",
       "      <td>Single</td>\n",
       "      <td>US Citizen</td>\n",
       "      <td>No</td>\n",
       "      <td>...</td>\n",
       "      <td>04/10/2010</td>\n",
       "      <td>NaT</td>\n",
       "      <td>N/A - still employed</td>\n",
       "      <td>Active</td>\n",
       "      <td>IT/IS</td>\n",
       "      <td>CIO</td>\n",
       "      <td>65.00</td>\n",
       "      <td>Janet King</td>\n",
       "      <td>Employee Referral</td>\n",
       "      <td>Exceptional</td>\n",
       "    </tr>\n",
       "  </tbody>\n",
       "</table>\n",
       "<p>20 rows × 21 columns</p>\n",
       "</div>"
      ],
      "text/plain": [
       "                EmployeeName  EmployeeNumber State    Zip         DOB Age  \\\n",
       "35            Cisco, Anthony      1102024173    MA   2135  11/24/1989  28   \n",
       "24               Zhou, Julia      1110029732    MA   2148   2/24/1979  38   \n",
       "19         Petrowsky, Thelma      1108027853    MA   1886   9/16/1984  33   \n",
       "36              Dolan, Linda      1101023540    MA   2119   7/18/1988  29   \n",
       "15             Horton, Jayne      1105025718    MA   2493   2/21/1984  33   \n",
       "51           Warfield, Sarah      1301052347    MA   2453  05/02/1978  39   \n",
       "30             Clayton, Rick      1301052902    MA   2170  09/05/1985  32   \n",
       "50                South, Joe      1308060959    CT   6278  09/09/1965  52   \n",
       "40           Shepard, Anita        906014183    MA   1773   4/14/1981  36   \n",
       "17            Murray, Thomas      1406068403    TX  78230  07/04/1988  29   \n",
       "37           Gonzalez, Maria      1988299991    MA   2472   4/16/1981  36   \n",
       "23            Simard, Kramer       808010278    MA   2110  02/08/1970  47   \n",
       "28             Monroe, Peter      1011022863    MA   2134  10/05/1986  31   \n",
       "20               Roby, Lori       1407068885    MA   1886  10/11/1981  36   \n",
       "26                Roup,Simon      1106026933    MA   2481  04/05/1973  44   \n",
       "43  Ait Sidi, Karthikeyan         1307060199    MA   2148  05/05/1975  42   \n",
       "27             Ruiz, Ricardo      1001175250    MA   1915  01/04/1964  54   \n",
       "46          Roehrich, Bianca      1111030266    MA   2703   5/27/1973  44   \n",
       "45           Favis, Donald        1412071562    CT   6033   7/30/1964  53   \n",
       "11          Zamora, Jennifer      1112030816    MA   2067   8/30/1979  38   \n",
       "\n",
       "       Sex MaritalDesc          CitizenDesc HispanicLatino  ...  DateOfHire  \\\n",
       "35    Male     Married           US Citizen            Yes  ...   3/30/2015   \n",
       "24  Female      Single           US Citizen             No  ...   3/30/2015   \n",
       "19  Female     Married           US Citizen             No  ...  11/10/2014   \n",
       "36  Female     Married           US Citizen             No  ...  01/05/2015   \n",
       "15  Female      Single           US Citizen             No  ...   3/30/2015   \n",
       "51  Female     widowed           US Citizen             No  ...   3/30/2015   \n",
       "30    Male      Single           US Citizen             No  ...  09/05/2012   \n",
       "50    Male      Single           US Citizen             No  ...  11/10/2014   \n",
       "40  Female     Married           US Citizen             No  ...   9/30/2014   \n",
       "17    Male    Divorced           US Citizen             No  ...  11/10/2014   \n",
       "37  Female   Separated           US Citizen            Yes  ...  01/05/2015   \n",
       "23    Male     Married           US Citizen            Yes  ...  01/05/2015   \n",
       "28    Male     Married  Eligible NonCitizen            Yes  ...   2/15/2012   \n",
       "20  Female     Married           US Citizen             No  ...   2/16/2015   \n",
       "26    Male      Single           US Citizen             No  ...   1/20/2013   \n",
       "43    Male     Married           US Citizen             No  ...   3/30/2015   \n",
       "27    Male    Divorced           US Citizen             No  ...  01/09/2012   \n",
       "46  Female      Single           US Citizen            Yes  ...  01/05/2015   \n",
       "45    Male      Single           US Citizen             No  ...   2/17/2014   \n",
       "11  Female      Single           US Citizen             No  ...  04/10/2010   \n",
       "\n",
       "   DateOfTermination  ReasonForTermination        EmploymentStatus Department  \\\n",
       "35               NaT  N/A - still employed                  Active      IT/IS   \n",
       "24               NaT  N/A - still employed                  Active      IT/IS   \n",
       "19               NaT  N/A - still employed                  Active      IT/IS   \n",
       "36               NaT  N/A - still employed                  Active      IT/IS   \n",
       "15               NaT  N/A - still employed                  Active      IT/IS   \n",
       "51               NaT  N/A - still employed                  Active      IT/IS   \n",
       "30               NaT  N/A - still employed                  Active      IT/IS   \n",
       "50               NaT  N/A - still employed                  Active      IT/IS   \n",
       "40               NaT  N/A - still employed                  Active      IT/IS   \n",
       "17               NaT  N/A - still employed                  Active      IT/IS   \n",
       "37               NaT  N/A - still employed                  Active      IT/IS   \n",
       "23               NaT  N/A - still employed                  Active      IT/IS   \n",
       "28               NaT  N/A - still employed                  Active      IT/IS   \n",
       "20               NaT  N/A - still employed                  Active      IT/IS   \n",
       "26               NaT  N/A - still employed                  Active      IT/IS   \n",
       "43        2016-06-16         career change  Voluntarily Terminated      IT/IS   \n",
       "27        2015-11-04                 hours  Voluntarily Terminated      IT/IS   \n",
       "46        2015-11-10      Another position  Voluntarily Terminated      IT/IS   \n",
       "45        2016-02-19                 hours    Terminated for Cause      IT/IS   \n",
       "11               NaT  N/A - still employed                  Active      IT/IS   \n",
       "\n",
       "                  Position PayRate      ManagerName  \\\n",
       "35        Network Engineer   42.00     Peter Monroe   \n",
       "24  Database Administrator   31.40       Simon Roup   \n",
       "19  Database Administrator   42.75       Simon Roup   \n",
       "36        Network Engineer   37.00     Peter Monroe   \n",
       "15  Database Administrator   34.00       Simon Roup   \n",
       "51    Sr. Network Engineer   55.20     Peter Monroe   \n",
       "30              IT Support   28.99     Eric Dougall   \n",
       "50    Sr. Network Engineer   53.00     Peter Monroe   \n",
       "40        Network Engineer   47.00     Peter Monroe   \n",
       "17  Database Administrator   35.50       Simon Roup   \n",
       "37        Network Engineer   39.00     Peter Monroe   \n",
       "23  Database Administrator   30.20       Simon Roup   \n",
       "28      IT Manager - Infra   63.00  Jennifer Zamora   \n",
       "20  Database Administrator   39.55       Simon Roup   \n",
       "26         IT Manager - DB   62.00  Jennifer Zamora   \n",
       "43                 Sr. DBA   62.00       Simon Roup   \n",
       "27         IT Manager - DB   21.00  Jennifer Zamora   \n",
       "46                 Sr. DBA   58.50       Simon Roup   \n",
       "45                 Sr. DBA   58.20       Simon Roup   \n",
       "11                     CIO   65.00       Janet King   \n",
       "\n",
       "                EmployeeSource          PerformanceScore  \n",
       "35         Information Session  N/A- too early to review  \n",
       "24           Employee Referral              90-day meets  \n",
       "19           Employee Referral               Exceptional  \n",
       "36           Employee Referral              90-day meets  \n",
       "15                   Glassdoor  N/A- too early to review  \n",
       "51           Employee Referral  N/A- too early to review  \n",
       "30                   Glassdoor               Fully Meets  \n",
       "50           Employee Referral              90-day meets  \n",
       "40             Vendor Referral               Fully Meets  \n",
       "17          Diversity Job Fair               Exceptional  \n",
       "37           Employee Referral               Fully Meets  \n",
       "23           Employee Referral              90-day meets  \n",
       "28          Diversity Job Fair         Needs Improvement  \n",
       "20           Employee Referral               Fully Meets  \n",
       "26        Professional Society               Fully Meets  \n",
       "43  Company Intranet - Partner               Fully Meets  \n",
       "27          Diversity Job Fair               Fully Meets  \n",
       "46             Vendor Referral              90-day meets  \n",
       "45             Vendor Referral               Fully Meets  \n",
       "11           Employee Referral               Exceptional  \n",
       "\n",
       "[20 rows x 21 columns]"
      ]
     },
     "execution_count": 28,
     "metadata": {},
     "output_type": "execute_result"
    }
   ],
   "source": [
    "# MC\n",
    "# Type your answer here.\n",
    "np.random.seed(42)\n",
    "hr_it_sample = hr.loc[hr.Department == \"IT/IS\",:].sample(n = 20, replace = False)\n",
    "hr_it_sample"
   ]
  },
  {
   "cell_type": "code",
   "execution_count": 29,
   "metadata": {
    "scrolled": false
   },
   "outputs": [
    {
     "data": {
      "text/html": [
       "<div>\n",
       "<style scoped>\n",
       "    .dataframe tbody tr th:only-of-type {\n",
       "        vertical-align: middle;\n",
       "    }\n",
       "\n",
       "    .dataframe tbody tr th {\n",
       "        vertical-align: top;\n",
       "    }\n",
       "\n",
       "    .dataframe thead th {\n",
       "        text-align: right;\n",
       "    }\n",
       "</style>\n",
       "<table border=\"1\" class=\"dataframe\">\n",
       "  <thead>\n",
       "    <tr style=\"text-align: right;\">\n",
       "      <th></th>\n",
       "      <th>count</th>\n",
       "      <th>unique</th>\n",
       "      <th>top</th>\n",
       "      <th>freq</th>\n",
       "    </tr>\n",
       "  </thead>\n",
       "  <tbody>\n",
       "    <tr>\n",
       "      <th>EmployeeName</th>\n",
       "      <td>301</td>\n",
       "      <td>301</td>\n",
       "      <td>Wallace, Courtney  E</td>\n",
       "      <td>1</td>\n",
       "    </tr>\n",
       "    <tr>\n",
       "      <th>State</th>\n",
       "      <td>301</td>\n",
       "      <td>28</td>\n",
       "      <td>MA</td>\n",
       "      <td>266</td>\n",
       "    </tr>\n",
       "    <tr>\n",
       "      <th>Zip</th>\n",
       "      <td>301</td>\n",
       "      <td>157</td>\n",
       "      <td>1886</td>\n",
       "      <td>12</td>\n",
       "    </tr>\n",
       "    <tr>\n",
       "      <th>DOB</th>\n",
       "      <td>301</td>\n",
       "      <td>298</td>\n",
       "      <td>09/09/1965</td>\n",
       "      <td>2</td>\n",
       "    </tr>\n",
       "    <tr>\n",
       "      <th>Age</th>\n",
       "      <td>301</td>\n",
       "      <td>39</td>\n",
       "      <td>31</td>\n",
       "      <td>22</td>\n",
       "    </tr>\n",
       "    <tr>\n",
       "      <th>Sex</th>\n",
       "      <td>301</td>\n",
       "      <td>2</td>\n",
       "      <td>Female</td>\n",
       "      <td>174</td>\n",
       "    </tr>\n",
       "    <tr>\n",
       "      <th>MaritalDesc</th>\n",
       "      <td>301</td>\n",
       "      <td>5</td>\n",
       "      <td>Single</td>\n",
       "      <td>127</td>\n",
       "    </tr>\n",
       "    <tr>\n",
       "      <th>CitizenDesc</th>\n",
       "      <td>301</td>\n",
       "      <td>3</td>\n",
       "      <td>US Citizen</td>\n",
       "      <td>285</td>\n",
       "    </tr>\n",
       "    <tr>\n",
       "      <th>HispanicLatino</th>\n",
       "      <td>301</td>\n",
       "      <td>4</td>\n",
       "      <td>No</td>\n",
       "      <td>271</td>\n",
       "    </tr>\n",
       "    <tr>\n",
       "      <th>RaceDesc</th>\n",
       "      <td>301</td>\n",
       "      <td>6</td>\n",
       "      <td>White</td>\n",
       "      <td>190</td>\n",
       "    </tr>\n",
       "    <tr>\n",
       "      <th>DateOfHire</th>\n",
       "      <td>301</td>\n",
       "      <td>93</td>\n",
       "      <td>01/10/2011</td>\n",
       "      <td>14</td>\n",
       "    </tr>\n",
       "    <tr>\n",
       "      <th>ReasonForTermination</th>\n",
       "      <td>301</td>\n",
       "      <td>17</td>\n",
       "      <td>N/A - still employed</td>\n",
       "      <td>188</td>\n",
       "    </tr>\n",
       "    <tr>\n",
       "      <th>EmploymentStatus</th>\n",
       "      <td>301</td>\n",
       "      <td>5</td>\n",
       "      <td>Active</td>\n",
       "      <td>174</td>\n",
       "    </tr>\n",
       "    <tr>\n",
       "      <th>Department</th>\n",
       "      <td>301</td>\n",
       "      <td>6</td>\n",
       "      <td>Production</td>\n",
       "      <td>208</td>\n",
       "    </tr>\n",
       "    <tr>\n",
       "      <th>Position</th>\n",
       "      <td>301</td>\n",
       "      <td>24</td>\n",
       "      <td>Production Technician I</td>\n",
       "      <td>136</td>\n",
       "    </tr>\n",
       "    <tr>\n",
       "      <th>ManagerName</th>\n",
       "      <td>301</td>\n",
       "      <td>20</td>\n",
       "      <td>Michael Albert</td>\n",
       "      <td>22</td>\n",
       "    </tr>\n",
       "    <tr>\n",
       "      <th>EmployeeSource</th>\n",
       "      <td>301</td>\n",
       "      <td>22</td>\n",
       "      <td>Employee Referral</td>\n",
       "      <td>31</td>\n",
       "    </tr>\n",
       "    <tr>\n",
       "      <th>PerformanceScore</th>\n",
       "      <td>301</td>\n",
       "      <td>7</td>\n",
       "      <td>Fully Meets</td>\n",
       "      <td>172</td>\n",
       "    </tr>\n",
       "  </tbody>\n",
       "</table>\n",
       "</div>"
      ],
      "text/plain": [
       "                     count unique                      top freq\n",
       "EmployeeName           301    301     Wallace, Courtney  E    1\n",
       "State                  301     28                       MA  266\n",
       "Zip                    301    157                     1886   12\n",
       "DOB                    301    298               09/09/1965    2\n",
       "Age                    301     39                       31   22\n",
       "Sex                    301      2                   Female  174\n",
       "MaritalDesc            301      5                   Single  127\n",
       "CitizenDesc            301      3               US Citizen  285\n",
       "HispanicLatino         301      4                       No  271\n",
       "RaceDesc               301      6                    White  190\n",
       "DateOfHire             301     93               01/10/2011   14\n",
       "ReasonForTermination   301     17     N/A - still employed  188\n",
       "EmploymentStatus       301      5                   Active  174\n",
       "Department             301      6        Production         208\n",
       "Position               301     24  Production Technician I  136\n",
       "ManagerName            301     20           Michael Albert   22\n",
       "EmployeeSource         301     22        Employee Referral   31\n",
       "PerformanceScore       301      7              Fully Meets  172"
      ]
     },
     "execution_count": 29,
     "metadata": {},
     "output_type": "execute_result"
    }
   ],
   "source": [
    "# MC\n",
    "# Type your answer here.\n",
    "\n",
    "hr.describe(include=\"object\").T"
   ]
  },
  {
   "cell_type": "code",
   "execution_count": 30,
   "metadata": {},
   "outputs": [
    {
     "data": {
      "text/html": [
       "<div>\n",
       "<style scoped>\n",
       "    .dataframe tbody tr th:only-of-type {\n",
       "        vertical-align: middle;\n",
       "    }\n",
       "\n",
       "    .dataframe tbody tr th {\n",
       "        vertical-align: top;\n",
       "    }\n",
       "\n",
       "    .dataframe thead th {\n",
       "        text-align: right;\n",
       "    }\n",
       "</style>\n",
       "<table border=\"1\" class=\"dataframe\">\n",
       "  <thead>\n",
       "    <tr style=\"text-align: right;\">\n",
       "      <th></th>\n",
       "      <th>count</th>\n",
       "      <th>unique</th>\n",
       "      <th>top</th>\n",
       "      <th>freq</th>\n",
       "    </tr>\n",
       "  </thead>\n",
       "  <tbody>\n",
       "    <tr>\n",
       "      <th>EmployeeName</th>\n",
       "      <td>20</td>\n",
       "      <td>20</td>\n",
       "      <td>Favis, Donald</td>\n",
       "      <td>1</td>\n",
       "    </tr>\n",
       "    <tr>\n",
       "      <th>State</th>\n",
       "      <td>20</td>\n",
       "      <td>3</td>\n",
       "      <td>MA</td>\n",
       "      <td>17</td>\n",
       "    </tr>\n",
       "    <tr>\n",
       "      <th>Zip</th>\n",
       "      <td>20</td>\n",
       "      <td>18</td>\n",
       "      <td>2148</td>\n",
       "      <td>2</td>\n",
       "    </tr>\n",
       "    <tr>\n",
       "      <th>DOB</th>\n",
       "      <td>20</td>\n",
       "      <td>20</td>\n",
       "      <td>07/04/1988</td>\n",
       "      <td>1</td>\n",
       "    </tr>\n",
       "    <tr>\n",
       "      <th>Age</th>\n",
       "      <td>20</td>\n",
       "      <td>14</td>\n",
       "      <td>36</td>\n",
       "      <td>3</td>\n",
       "    </tr>\n",
       "    <tr>\n",
       "      <th>Sex</th>\n",
       "      <td>20</td>\n",
       "      <td>2</td>\n",
       "      <td>Male</td>\n",
       "      <td>10</td>\n",
       "    </tr>\n",
       "    <tr>\n",
       "      <th>MaritalDesc</th>\n",
       "      <td>20</td>\n",
       "      <td>5</td>\n",
       "      <td>Single</td>\n",
       "      <td>8</td>\n",
       "    </tr>\n",
       "    <tr>\n",
       "      <th>CitizenDesc</th>\n",
       "      <td>20</td>\n",
       "      <td>2</td>\n",
       "      <td>US Citizen</td>\n",
       "      <td>19</td>\n",
       "    </tr>\n",
       "    <tr>\n",
       "      <th>HispanicLatino</th>\n",
       "      <td>20</td>\n",
       "      <td>2</td>\n",
       "      <td>No</td>\n",
       "      <td>15</td>\n",
       "    </tr>\n",
       "    <tr>\n",
       "      <th>RaceDesc</th>\n",
       "      <td>20</td>\n",
       "      <td>5</td>\n",
       "      <td>White</td>\n",
       "      <td>14</td>\n",
       "    </tr>\n",
       "    <tr>\n",
       "      <th>DateOfHire</th>\n",
       "      <td>20</td>\n",
       "      <td>11</td>\n",
       "      <td>3/30/2015</td>\n",
       "      <td>5</td>\n",
       "    </tr>\n",
       "    <tr>\n",
       "      <th>ReasonForTermination</th>\n",
       "      <td>20</td>\n",
       "      <td>4</td>\n",
       "      <td>N/A - still employed</td>\n",
       "      <td>16</td>\n",
       "    </tr>\n",
       "    <tr>\n",
       "      <th>EmploymentStatus</th>\n",
       "      <td>20</td>\n",
       "      <td>3</td>\n",
       "      <td>Active</td>\n",
       "      <td>16</td>\n",
       "    </tr>\n",
       "    <tr>\n",
       "      <th>Department</th>\n",
       "      <td>20</td>\n",
       "      <td>1</td>\n",
       "      <td>IT/IS</td>\n",
       "      <td>20</td>\n",
       "    </tr>\n",
       "    <tr>\n",
       "      <th>Position</th>\n",
       "      <td>20</td>\n",
       "      <td>8</td>\n",
       "      <td>Database Administrator</td>\n",
       "      <td>6</td>\n",
       "    </tr>\n",
       "    <tr>\n",
       "      <th>ManagerName</th>\n",
       "      <td>20</td>\n",
       "      <td>5</td>\n",
       "      <td>Simon Roup</td>\n",
       "      <td>9</td>\n",
       "    </tr>\n",
       "    <tr>\n",
       "      <th>EmployeeSource</th>\n",
       "      <td>20</td>\n",
       "      <td>7</td>\n",
       "      <td>Employee Referral</td>\n",
       "      <td>9</td>\n",
       "    </tr>\n",
       "    <tr>\n",
       "      <th>PerformanceScore</th>\n",
       "      <td>20</td>\n",
       "      <td>5</td>\n",
       "      <td>Fully Meets</td>\n",
       "      <td>8</td>\n",
       "    </tr>\n",
       "  </tbody>\n",
       "</table>\n",
       "</div>"
      ],
      "text/plain": [
       "                     count unique                     top freq\n",
       "EmployeeName            20     20         Favis, Donald      1\n",
       "State                   20      3                      MA   17\n",
       "Zip                     20     18                    2148    2\n",
       "DOB                     20     20              07/04/1988    1\n",
       "Age                     20     14                      36    3\n",
       "Sex                     20      2                    Male   10\n",
       "MaritalDesc             20      5                  Single    8\n",
       "CitizenDesc             20      2              US Citizen   19\n",
       "HispanicLatino          20      2                      No   15\n",
       "RaceDesc                20      5                   White   14\n",
       "DateOfHire              20     11               3/30/2015    5\n",
       "ReasonForTermination    20      4    N/A - still employed   16\n",
       "EmploymentStatus        20      3                  Active   16\n",
       "Department              20      1                   IT/IS   20\n",
       "Position                20      8  Database Administrator    6\n",
       "ManagerName             20      5              Simon Roup    9\n",
       "EmployeeSource          20      7       Employee Referral    9\n",
       "PerformanceScore        20      5             Fully Meets    8"
      ]
     },
     "execution_count": 30,
     "metadata": {},
     "output_type": "execute_result"
    }
   ],
   "source": [
    "hr_it_sample.describe(include=\"object\").T"
   ]
  },
  {
   "cell_type": "code",
   "execution_count": 31,
   "metadata": {},
   "outputs": [
    {
     "data": {
      "text/plain": [
       "Single       0.40\n",
       "Married      0.40\n",
       "Divorced     0.10\n",
       "widowed      0.05\n",
       "Separated    0.05\n",
       "Name: MaritalDesc, dtype: float64"
      ]
     },
     "execution_count": 31,
     "metadata": {},
     "output_type": "execute_result"
    }
   ],
   "source": [
    "hr_it_sample.MaritalDesc.value_counts(normalize=True)"
   ]
  },
  {
   "cell_type": "code",
   "execution_count": 32,
   "metadata": {},
   "outputs": [
    {
     "data": {
      "text/plain": [
       "Single       0.421927\n",
       "Married      0.395349\n",
       "Divorced     0.099668\n",
       "Separated    0.046512\n",
       "widowed      0.036545\n",
       "Name: MaritalDesc, dtype: float64"
      ]
     },
     "execution_count": 32,
     "metadata": {},
     "output_type": "execute_result"
    }
   ],
   "source": [
    "hr.MaritalDesc.value_counts(normalize=True)"
   ]
  },
  {
   "cell_type": "code",
   "execution_count": 33,
   "metadata": {},
   "outputs": [
    {
     "data": {
      "text/plain": [
       "Female    0.578073\n",
       "Male      0.421927\n",
       "Name: Sex, dtype: float64"
      ]
     },
     "execution_count": 33,
     "metadata": {},
     "output_type": "execute_result"
    }
   ],
   "source": [
    "hr.Sex.value_counts(normalize=True)"
   ]
  },
  {
   "cell_type": "code",
   "execution_count": 34,
   "metadata": {},
   "outputs": [
    {
     "data": {
      "text/plain": [
       "Male      0.5\n",
       "Female    0.5\n",
       "Name: Sex, dtype: float64"
      ]
     },
     "execution_count": 34,
     "metadata": {},
     "output_type": "execute_result"
    }
   ],
   "source": [
    "hr_it_sample.Sex.value_counts(normalize=True)"
   ]
  },
  {
   "cell_type": "raw",
   "metadata": {},
   "source": [
    "# MC\n",
    "# Type your answer here.\n",
    "# Examine the sample as in the previous example.\n",
    "\n",
    "1. The sample obtained is heterogeneous with respect to zip/age/sex/marital status/citizenship status/racial descent/\n",
    "employment status/position/employee source/performance score.\n",
    "2. The sample is not representative."
   ]
  },
  {
   "cell_type": "markdown",
   "metadata": {},
   "source": [
    "## Sampling Frames and Sampling Units\n",
    "As we saw in the section on populations, a population needs to be defined such that it covers the entirety of data that is of interest in a given study. This raises the question of *how* we can identify each individual member of our population to facilitate drawing samples. To this extent, we would like to define a **sampling frame**, i.e. a *list* of all the members in the population for us to sample from. We will use this sampling frame as a basis to draw samples using one or more prescribed methods (sampling methodologies) to ensure consistency.\n",
    "\n",
    "As you can very well deduce, it may not always be possible to get an entire list of the members in a population. In cases such as these, we strive to define a sampling frame that is **as close as possible** to the population in order to **minimize** bias. Looking back at our motivational example, the sampling frame here would be the *roster of registered voters* in the state!\n",
    "\n",
    "![](../images/sampling_frame2.png)\n",
    "\n",
    "The table below summarizes the concept of how we would draw samples from a population using a sampling frame:\n",
    "\n",
    "| Component      | Example                                                               |\n",
    "|:--------------:|:---------------------------------------------------------------------:|\n",
    "| Population     | A company's entire customer base                                      |\n",
    "| Sampling Frame | Those customers the company has access to (contact details available) |\n",
    "| Samples        | Customers who you contact and actually respond to your survey         |\n",
    "\n",
    "In addition to a sampling frame, we also wish to define the number of members we select at a single time when we draw our samples. This selection size is called the **sampling unit**. Sampling units come in handy when we wish to widen/narrow our scope without altering our entire sampling methodology."
   ]
  },
  {
   "cell_type": "markdown",
   "metadata": {},
   "source": [
    "<div class = \"alert alert-block alert-info\">\n",
    "<b>Example</b>\n",
    "<p>\n",
    "1. Recall the example where we wished to study the average income of a fresh graduate in KL. As we expect the income to vary between individuals, we would select the sampling unit here as <i>one person</i>.\n",
    "<p>\n",
    "2. Suppose we want to study the average household income across a country instead. Since we are not interested in the individual incomes of each family member, we can widen the sampling unit to <i>one household</i>.\n",
    "</div>"
   ]
  },
  {
   "cell_type": "markdown",
   "metadata": {},
   "source": [
    "# 2. Sampling Methodologies <a name=\"methods\"></a>\n",
    "There are a variety of *techniques* (methods) in which sampling can be carried out, each with its own strengths and weaknesses. These techniques can generally be broken down into two major categories - **probabilistic** and **non-probabilistic sampling**."
   ]
  },
  {
   "cell_type": "markdown",
   "metadata": {},
   "source": [
    "## Probabilistic Sampling <a name=\"prob\"></a>\n",
    "Probabilistic sampling is a sampling technique in which the *likelihood* that a member of the population is selected as part of a sample is **known** (or can be calculated). There are **5** sampling techniques that fall under the umbrella of probabilistic sampling, namely:\n",
    "1. Simple Random Sampling\n",
    "2. Stratified Sampling\n",
    "3. Cluster Sampling\n",
    "4. Systematic Sampling\n",
    "5. Multistage Sampling\n",
    "\n",
    "To avoid confusion (and a ton of mathematical jargon), we will focus on the process of each sampling technique and skip the calculation of probabilities etc."
   ]
  },
  {
   "cell_type": "markdown",
   "metadata": {},
   "source": [
    "### Simple Random Sampling\n",
    "In simple random sampling, each member of the population is **equally likely** to be selected as part of the sample. This can be done by **randomly selecting** members from the population."
   ]
  },
  {
   "cell_type": "markdown",
   "metadata": {},
   "source": [
    "<div class = \"alert alert-block alert-info\">\n",
    "<p>\n",
    "<b>Example</b>\n",
    "<p>\n",
    "Suppose we wish to study the the job satisfaction of teachers in international schools in KL. We would first need to obtain a sampling frame, i.e. compile a list of all teachers in international schools and their contact details. We would then randomly choose names on this list to contact for interviewing.\n",
    "</div>"
   ]
  },
  {
   "cell_type": "markdown",
   "metadata": {},
   "source": [
    "<div class = \"alert alert-block alert-success\">\n",
    "<p>\n",
    "<b>Pros</b>\n",
    "<p>\n",
    "1. Samples can easily be drawn with the assistance of statistical software suites.\n",
    "<p>\n",
    "2. Selection bias is minimal as the process of drawing members of the population is random.\n",
    "<p>\n",
    "<b>Cons</b>\n",
    "<p>\n",
    "1. Requires a well-defined sampling frame, which in practice may not always be available.\n",
    "<p>\n",
    "2. May not yield a representative sample as there is no stipulation on the ratio of members drawn.\n",
    "</div>"
   ]
  },
  {
   "cell_type": "markdown",
   "metadata": {},
   "source": [
    "<div class = \"alert alert-block alert-warning\">\n",
    "<p>\n",
    "<b>Guided Exercise</b>\n",
    "<p>\n",
    "    Draw a simple random sample of 2,500 voters from the <code>voter</code> data set. Assign this to the variable <code>mysample2</code> and use bar graphs to examine the demographics of the resulting sample with respect to <code>gender</code>, <code>ethnicity</code>, and <code>state_seat</code>.\n",
    "</div>"
   ]
  },
  {
   "cell_type": "code",
   "execution_count": 38,
   "metadata": {},
   "outputs": [],
   "source": [
    "np.random.seed(42)\n",
    "mysample2 = voter.sample(n = 2500, replace = False)"
   ]
  },
  {
   "cell_type": "code",
   "execution_count": 46,
   "metadata": {},
   "outputs": [],
   "source": [
    "def compare_pop_sample(pop_df, sample_df, col): \n",
    "    pop = pop_df[col].value_counts(normalize = True)\n",
    "    sample = sample_df[col].value_counts(normalize = True)\n",
    "    pop_sample = pd.concat([pop, sample], \n",
    "                           axis = 0, \n",
    "                           keys = [\"pop\", \"sample\"]).reset_index()\n",
    "    sns.catplot(x = \"level_1\", y = col, \n",
    "                hue = \"level_0\", kind = \"bar\", \n",
    "                data = pop_sample)"
   ]
  },
  {
   "cell_type": "code",
   "execution_count": 47,
   "metadata": {},
   "outputs": [
    {
     "data": {
      "image/png": "[encoded data removed]",
      "text/plain": [
       "<Figure size 432.25x360 with 1 Axes>"
      ]
     },
     "metadata": {
      "needs_background": "light"
     },
     "output_type": "display_data"
    }
   ],
   "source": [
    "compare_pop_sample(voter, mysample2, \"gender\")"
   ]
  },
  {
   "cell_type": "code",
   "execution_count": 48,
   "metadata": {},
   "outputs": [
    {
     "data": {
      "image/png": "[encoded data removed]",
      "text/plain": [
       "<Figure size 432.25x360 with 1 Axes>"
      ]
     },
     "metadata": {
      "needs_background": "light"
     },
     "output_type": "display_data"
    }
   ],
   "source": [
    "compare_pop_sample(voter, mysample2, \"ethnicity\")"
   ]
  },
  {
   "cell_type": "code",
   "execution_count": 49,
   "metadata": {},
   "outputs": [
    {
     "data": {
      "image/png": "[encoded data removed]",
      "text/plain": [
       "<Figure size 432.25x360 with 1 Axes>"
      ]
     },
     "metadata": {
      "needs_background": "light"
     },
     "output_type": "display_data"
    }
   ],
   "source": [
    "compare_pop_sample(voter, mysample2, \"state_seat\")"
   ]
  },
  {
   "cell_type": "markdown",
   "metadata": {},
   "source": [
    "<div class = \"alert alert-block alert-danger\">\n",
    "<p>\n",
    "<b>Exercise</b>\n",
    "<p>\n",
    "Draw a simple random sample of 200 employees from the <code>hr</code> data set. Assign this to a variable of your choice and use bar graphs to examine the demographics of the resulting sample with respect to <code>MaritalDesc</code> and <code>Department</code>.\n",
    "</div>"
   ]
  },
  {
   "cell_type": "code",
   "execution_count": 50,
   "metadata": {},
   "outputs": [],
   "source": [
    "# MC\n",
    "# Type your answer here.\n",
    "np.random.seed(42)\n",
    "hr_sample = hr.sample(n = 200, replace = False)"
   ]
  },
  {
   "cell_type": "code",
   "execution_count": 51,
   "metadata": {},
   "outputs": [
    {
     "data": {
      "image/png": "[encoded data removed]",
      "text/plain": [
       "<Figure size 432.25x360 with 1 Axes>"
      ]
     },
     "metadata": {
      "needs_background": "light"
     },
     "output_type": "display_data"
    }
   ],
   "source": [
    "# MC\n",
    "# Type your answer here.\n",
    "\n",
    "compare_pop_sample(hr, hr_sample, \"MaritalDesc\")"
   ]
  },
  {
   "cell_type": "code",
   "execution_count": 53,
   "metadata": {},
   "outputs": [
    {
     "data": {
      "image/png": "[encoded data removed]",
      "text/plain": [
       "<Figure size 432.25x360 with 1 Axes>"
      ]
     },
     "metadata": {
      "needs_background": "light"
     },
     "output_type": "display_data"
    }
   ],
   "source": [
    "# MC\n",
    "# Type your answer here.\n",
    "import matplotlib.pyplot as plt\n",
    "compare_pop_sample(hr, hr_sample, \"Department\")\n",
    "plt.xticks(rotation=90);"
   ]
  },
  {
   "cell_type": "markdown",
   "metadata": {},
   "source": [
    "### Stratified Sampling\n",
    "Stratified sampling is a sampling approach that is aimed at minimizing *representation bias*. It invovles grouping members of the population by their sub-populations and drawing samples from each one to preserve the ratio/balance from each group. For each sub-population $k$, we draw a fixed percentage of $N_k$ members to make up the sample.\n",
    "\n",
    "<img src='../images/Startified_Sampling.png'>\n",
    "\n",
    "Note that here we do not fix the sample size unlike simple random sampling. Instead, we specify a percentage of the population to allow for easier computation of how many members to draw from each sub-population."
   ]
  },
  {
   "cell_type": "markdown",
   "metadata": {},
   "source": [
    "<div class = \"alert alert-block alert-info\">\n",
    "<p>\n",
    "<b>Example</b>\n",
    "<p>\n",
    "Recall the previous example where we wanted to study the the job satisfaction of teachers in international schools in KL. Suppose that we wanted to interview 30% of all teachers. We would then group the teachers by school and randomly select 30% from each school to make up our sample.\n",
    "</div>"
   ]
  },
  {
   "cell_type": "markdown",
   "metadata": {},
   "source": [
    "Stratified sampling is useful when we want to ensure that all the various sub-populations are well-represented. National census data is often collected in such a manner to ensure that minority groups etc. are taken into account when federal policies are developed."
   ]
  },
  {
   "cell_type": "markdown",
   "metadata": {},
   "source": [
    "<div class = \"alert alert-block alert-success\">\n",
    "<p>\n",
    "<b>Pros</b>\n",
    "<p>\n",
    "1. Samples can easily be drawn from each sub-population with the assistance of statistical software suites.\n",
    "<p>\n",
    "2. Representation bias is minimal as stratification takes into account the ratio of sub-populations.\n",
    "<p>\n",
    "<b>Cons</b>\n",
    "<p>\n",
    "1. Requires a well-defined sampling frame, which in practice may not always be available.\n",
    "<p>\n",
    "2. If the variance within each sub-population is significantly different, stratified sampling may result in the sample variance being skewed.\n",
    "<p>\n",
    "3. If data collection involves travel to various geographical locations, stratification may incur greater cost as each sub-population needs to be accounted for.\n",
    "</div>"
   ]
  },
  {
   "cell_type": "markdown",
   "metadata": {},
   "source": [
    "<div class = \"alert alert-block alert-warning\">\n",
    "<p>\n",
    "<b>Guided Exercise</b>\n",
    "<p>\n",
    "    Draw a sample of 10% of voters from the <code>voter</code> data set, stratified by <code>gender</code>. Assign this to the variable <code>mysample3</code> and examine the resulting sample using <code>describe</code>.\n",
    "</div>"
   ]
  },
  {
   "cell_type": "code",
   "execution_count": 54,
   "metadata": {},
   "outputs": [],
   "source": [
    "mysample3 = voter.groupby('gender').\\\n",
    "apply(lambda x: x.sample(frac = .1, random_state = 42, replace=False))"
   ]
  },
  {
   "cell_type": "code",
   "execution_count": 55,
   "metadata": {},
   "outputs": [
    {
     "data": {
      "text/html": [
       "<div>\n",
       "<style scoped>\n",
       "    .dataframe tbody tr th:only-of-type {\n",
       "        vertical-align: middle;\n",
       "    }\n",
       "\n",
       "    .dataframe tbody tr th {\n",
       "        vertical-align: top;\n",
       "    }\n",
       "\n",
       "    .dataframe thead th {\n",
       "        text-align: right;\n",
       "    }\n",
       "</style>\n",
       "<table border=\"1\" class=\"dataframe\">\n",
       "  <thead>\n",
       "    <tr style=\"text-align: right;\">\n",
       "      <th></th>\n",
       "      <th></th>\n",
       "      <th>gender</th>\n",
       "      <th>ic</th>\n",
       "      <th>state_seat</th>\n",
       "      <th>polling_district</th>\n",
       "      <th>ethnicity</th>\n",
       "      <th>postcode</th>\n",
       "    </tr>\n",
       "    <tr>\n",
       "      <th>gender</th>\n",
       "      <th></th>\n",
       "      <th></th>\n",
       "      <th></th>\n",
       "      <th></th>\n",
       "      <th></th>\n",
       "      <th></th>\n",
       "      <th></th>\n",
       "    </tr>\n",
       "  </thead>\n",
       "  <tbody>\n",
       "    <tr>\n",
       "      <th rowspan=\"5\" valign=\"top\">Female</th>\n",
       "      <th>23708</th>\n",
       "      <td>Female</td>\n",
       "      <td>890125-06-7372</td>\n",
       "      <td>1</td>\n",
       "      <td>1</td>\n",
       "      <td>Bumiputera</td>\n",
       "      <td>17110</td>\n",
       "    </tr>\n",
       "    <tr>\n",
       "      <th>9189</th>\n",
       "      <td>Female</td>\n",
       "      <td>951014-33-6924</td>\n",
       "      <td>2</td>\n",
       "      <td>25</td>\n",
       "      <td>Bumiputera</td>\n",
       "      <td>17460</td>\n",
       "    </tr>\n",
       "    <tr>\n",
       "      <th>28140</th>\n",
       "      <td>Female</td>\n",
       "      <td>620806-33-9172</td>\n",
       "      <td>2</td>\n",
       "      <td>30</td>\n",
       "      <td>Bumiputera</td>\n",
       "      <td>17500</td>\n",
       "    </tr>\n",
       "    <tr>\n",
       "      <th>33113</th>\n",
       "      <td>Female</td>\n",
       "      <td>770918-32-2506</td>\n",
       "      <td>2</td>\n",
       "      <td>24</td>\n",
       "      <td>Bumiputera</td>\n",
       "      <td>17440</td>\n",
       "    </tr>\n",
       "    <tr>\n",
       "      <th>47753</th>\n",
       "      <td>Female</td>\n",
       "      <td>720414-32-1372</td>\n",
       "      <td>1</td>\n",
       "      <td>11</td>\n",
       "      <td>Cina</td>\n",
       "      <td>17200</td>\n",
       "    </tr>\n",
       "    <tr>\n",
       "      <th>...</th>\n",
       "      <th>...</th>\n",
       "      <td>...</td>\n",
       "      <td>...</td>\n",
       "      <td>...</td>\n",
       "      <td>...</td>\n",
       "      <td>...</td>\n",
       "      <td>...</td>\n",
       "    </tr>\n",
       "    <tr>\n",
       "      <th rowspan=\"5\" valign=\"top\">Male</th>\n",
       "      <th>24306</th>\n",
       "      <td>Male</td>\n",
       "      <td>420904-06-8661</td>\n",
       "      <td>3</td>\n",
       "      <td>42</td>\n",
       "      <td>Bumiputera</td>\n",
       "      <td>17730</td>\n",
       "    </tr>\n",
       "    <tr>\n",
       "      <th>49801</th>\n",
       "      <td>Male</td>\n",
       "      <td>900520-06-8407</td>\n",
       "      <td>3</td>\n",
       "      <td>42</td>\n",
       "      <td>Bumiputera</td>\n",
       "      <td>17730</td>\n",
       "    </tr>\n",
       "    <tr>\n",
       "      <th>33507</th>\n",
       "      <td>Male</td>\n",
       "      <td>760825-32-6785</td>\n",
       "      <td>1</td>\n",
       "      <td>8</td>\n",
       "      <td>Bumiputera</td>\n",
       "      <td>17180</td>\n",
       "    </tr>\n",
       "    <tr>\n",
       "      <th>13185</th>\n",
       "      <td>Male</td>\n",
       "      <td>860605-06-8005</td>\n",
       "      <td>3</td>\n",
       "      <td>42</td>\n",
       "      <td>India</td>\n",
       "      <td>17710</td>\n",
       "    </tr>\n",
       "    <tr>\n",
       "      <th>2811</th>\n",
       "      <td>Male</td>\n",
       "      <td>930806-06-3567</td>\n",
       "      <td>3</td>\n",
       "      <td>42</td>\n",
       "      <td>Bumiputera</td>\n",
       "      <td>17730</td>\n",
       "    </tr>\n",
       "  </tbody>\n",
       "</table>\n",
       "<p>5200 rows × 6 columns</p>\n",
       "</div>"
      ],
      "text/plain": [
       "              gender              ic state_seat polling_district   ethnicity  \\\n",
       "gender                                                                         \n",
       "Female 23708  Female  890125-06-7372          1                1  Bumiputera   \n",
       "       9189   Female  951014-33-6924          2               25  Bumiputera   \n",
       "       28140  Female  620806-33-9172          2               30  Bumiputera   \n",
       "       33113  Female  770918-32-2506          2               24  Bumiputera   \n",
       "       47753  Female  720414-32-1372          1               11        Cina   \n",
       "...              ...             ...        ...              ...         ...   \n",
       "Male   24306    Male  420904-06-8661          3               42  Bumiputera   \n",
       "       49801    Male  900520-06-8407          3               42  Bumiputera   \n",
       "       33507    Male  760825-32-6785          1                8  Bumiputera   \n",
       "       13185    Male  860605-06-8005          3               42       India   \n",
       "       2811     Male  930806-06-3567          3               42  Bumiputera   \n",
       "\n",
       "             postcode  \n",
       "gender                 \n",
       "Female 23708    17110  \n",
       "       9189     17460  \n",
       "       28140    17500  \n",
       "       33113    17440  \n",
       "       47753    17200  \n",
       "...               ...  \n",
       "Male   24306    17730  \n",
       "       49801    17730  \n",
       "       33507    17180  \n",
       "       13185    17710  \n",
       "       2811     17730  \n",
       "\n",
       "[5200 rows x 6 columns]"
      ]
     },
     "execution_count": 55,
     "metadata": {},
     "output_type": "execute_result"
    }
   ],
   "source": [
    "mysample3"
   ]
  },
  {
   "cell_type": "code",
   "execution_count": 56,
   "metadata": {},
   "outputs": [
    {
     "data": {
      "image/png": "[encoded data removed]",
      "text/plain": [
       "<Figure size 432.25x360 with 1 Axes>"
      ]
     },
     "metadata": {
      "needs_background": "light"
     },
     "output_type": "display_data"
    }
   ],
   "source": [
    "compare_pop_sample(voter, mysample3, \"gender\")"
   ]
  },
  {
   "cell_type": "code",
   "execution_count": 57,
   "metadata": {},
   "outputs": [
    {
     "data": {
      "image/png": "[encoded data removed]",
      "text/plain": [
       "<Figure size 432.25x360 with 1 Axes>"
      ]
     },
     "metadata": {
      "needs_background": "light"
     },
     "output_type": "display_data"
    }
   ],
   "source": [
    "compare_pop_sample(voter, mysample3, \"ethnicity\")"
   ]
  },
  {
   "cell_type": "markdown",
   "metadata": {},
   "source": [
    "<div class = \"alert alert-block alert-danger\">\n",
    "<p>\n",
    "<b>Exercise</b>\n",
    "<p>\n",
    "    Draw a sample of 20% of employees from the <code>hr</code> data set, stratified by <code>Sex</code>. Assign this to a variable of your choice and examine the resulting sample using <code>describe()</code>.\n",
    "</div>"
   ]
  },
  {
   "cell_type": "code",
   "execution_count": 58,
   "metadata": {},
   "outputs": [],
   "source": [
    "# MC\n",
    "# Type your answer here.\n",
    "\n",
    "hr_stratified_sample = hr.groupby('Sex').\\\n",
    "apply(lambda x: x.sample(frac = .2, random_state=42, replace = False))"
   ]
  },
  {
   "cell_type": "code",
   "execution_count": 59,
   "metadata": {},
   "outputs": [
    {
     "data": {
      "image/png": "[encoded data removed]",
      "text/plain": [
       "<Figure size 432.25x360 with 1 Axes>"
      ]
     },
     "metadata": {
      "needs_background": "light"
     },
     "output_type": "display_data"
    }
   ],
   "source": [
    "# MC\n",
    "# Type your answer here.\n",
    "\n",
    "compare_pop_sample(hr, hr_stratified_sample, \"Sex\")"
   ]
  },
  {
   "cell_type": "code",
   "execution_count": 60,
   "metadata": {},
   "outputs": [
    {
     "data": {
      "image/png": "[encoded data removed]",
      "text/plain": [
       "<Figure size 432.25x360 with 1 Axes>"
      ]
     },
     "metadata": {
      "needs_background": "light"
     },
     "output_type": "display_data"
    }
   ],
   "source": [
    "compare_pop_sample(hr, hr_stratified_sample, \"MaritalDesc\")"
   ]
  },
  {
   "cell_type": "markdown",
   "metadata": {},
   "source": [
    "### Cluster Sampling\n",
    "Cluster sampling is similar to stratified sampling in the sense that the sampling is done over sub-populations. The main difference however, is that instead of randomly sampling **within** each sub-population with the intention of preserving proportionality, we **randomly select** a **chosen number** of sub-populations and then proceed to sample from the selected sub-populations. If *all* elements in a chosen cluster are sampled, we call the process **one-stage cluster sampling**.\n",
    "\n",
    "<img src='../images/Cluster_Sampling.png'>\n",
    "\n",
    "In the diagram above, we see that 3 random sub-populations (clusters) were chosen from the 7 that exist in the population. Though the number of clusters chosen is entirely up to the researcher, they are commonly dictated by resource availability (cost, manpower, etc.)"
   ]
  },
  {
   "cell_type": "markdown",
   "metadata": {},
   "source": [
    "<div class = \"alert alert-block alert-info\">\n",
    "<p>\n",
    "<b>Example</b>\n",
    "<p>\n",
    "Recall the previous example where we wanted to study the the job satisfaction of teachers in international schools in KL. To apply one-stage cluster sampling here, we would randomly select a number of international schools within KL (e.g. 20) and interview <i>all</i> teachers at these schools.\n",
    "</div>"
   ]
  },
  {
   "cell_type": "markdown",
   "metadata": {},
   "source": [
    "Cluster sampling is better suited towards large populations where sampling within clusters is easily done, but sampling **across** clusters is difficult. Geographical factors such as distance are often used as a measure of when cluster sampling is required."
   ]
  },
  {
   "cell_type": "markdown",
   "metadata": {},
   "source": [
    "<div class = \"alert alert-block alert-info\">\n",
    "<p>\n",
    "<b>Example</b>\n",
    "<p>\n",
    "To ascertain a specific opinion from all Malaysians within Peninsula Malaysia, it is easier to divide the peninsula into its various states and perform cluster sampling, i.e. sampling only randomly selected states to cut down on traveling costs.\n",
    "</div>"
   ]
  },
  {
   "cell_type": "markdown",
   "metadata": {},
   "source": [
    "<div class = \"alert alert-block alert-success\">\n",
    "<p>\n",
    "<b>Pros</b>\n",
    "<p>\n",
    "1. Clusters can easily be selected with the assistance of statistical software suites and/or random number generators.\n",
    "<p>\n",
    "2. Works well for large large populations.\n",
    "<p>\n",
    "<b>Cons</b>\n",
    "<p>\n",
    "1. Requires more than 2 sub-populations to be effective. Sampling from only 1 out of 2 sub-populations is biased.\n",
    "<p>\n",
    "2. Less control over sample size, poses a problem for populations where the number of members in each sub-population is not equal/similar.\n",
    "</div>"
   ]
  },
  {
   "cell_type": "markdown",
   "metadata": {},
   "source": [
    "<div class = \"alert alert-block alert-warning\">\n",
    "<p>\n",
    "<b>Guided Exercise</b>\n",
    "<p>\n",
    "    \n",
    "Draw a one-stage cluster sample from the <code>voter</code> data set, clustered by <code>state_seat</code> by setting the number of clusters to `2` and using simple random sampling of clusters (`np.random.choice`). Assign this to the variable <code>mysample4</code> and examine the resulting sample using <code>describe</code>.\n",
    "</div>"
   ]
  },
  {
   "cell_type": "code",
   "execution_count": 61,
   "metadata": {},
   "outputs": [
    {
     "data": {
      "text/plain": [
       "array(['3', '2', '1'], dtype=object)"
      ]
     },
     "execution_count": 61,
     "metadata": {},
     "output_type": "execute_result"
    }
   ],
   "source": [
    "voter.state_seat.unique()"
   ]
  },
  {
   "cell_type": "code",
   "execution_count": 62,
   "metadata": {},
   "outputs": [
    {
     "data": {
      "text/plain": [
       "array(['3', '2'], dtype=object)"
      ]
     },
     "execution_count": 62,
     "metadata": {},
     "output_type": "execute_result"
    }
   ],
   "source": [
    "# choose clusters with np.random.choice\n",
    "np.random.seed(42)\n",
    "clusters = np.random.choice(voter.state_seat.unique(), \n",
    "                            size = 2, \n",
    "                            replace = False)\n",
    "\n",
    "clusters"
   ]
  },
  {
   "cell_type": "code",
   "execution_count": 63,
   "metadata": {},
   "outputs": [
    {
     "data": {
      "text/html": [
       "<div>\n",
       "<style scoped>\n",
       "    .dataframe tbody tr th:only-of-type {\n",
       "        vertical-align: middle;\n",
       "    }\n",
       "\n",
       "    .dataframe tbody tr th {\n",
       "        vertical-align: top;\n",
       "    }\n",
       "\n",
       "    .dataframe thead th {\n",
       "        text-align: right;\n",
       "    }\n",
       "</style>\n",
       "<table border=\"1\" class=\"dataframe\">\n",
       "  <thead>\n",
       "    <tr style=\"text-align: right;\">\n",
       "      <th></th>\n",
       "      <th>gender</th>\n",
       "      <th>ic</th>\n",
       "      <th>state_seat</th>\n",
       "      <th>polling_district</th>\n",
       "      <th>ethnicity</th>\n",
       "      <th>postcode</th>\n",
       "    </tr>\n",
       "  </thead>\n",
       "  <tbody>\n",
       "    <tr>\n",
       "      <th>0</th>\n",
       "      <td>Male</td>\n",
       "      <td>661123-06-4031</td>\n",
       "      <td>3</td>\n",
       "      <td>44</td>\n",
       "      <td>Bumiputera</td>\n",
       "      <td>17750</td>\n",
       "    </tr>\n",
       "    <tr>\n",
       "      <th>1</th>\n",
       "      <td>Female</td>\n",
       "      <td>871217-06-8098</td>\n",
       "      <td>3</td>\n",
       "      <td>41</td>\n",
       "      <td>Bumiputera</td>\n",
       "      <td>17710</td>\n",
       "    </tr>\n",
       "    <tr>\n",
       "      <th>2</th>\n",
       "      <td>Male</td>\n",
       "      <td>761213-33-3923</td>\n",
       "      <td>2</td>\n",
       "      <td>29</td>\n",
       "      <td>Bumiputera</td>\n",
       "      <td>17500</td>\n",
       "    </tr>\n",
       "    <tr>\n",
       "      <th>4</th>\n",
       "      <td>Male</td>\n",
       "      <td>600920-06-5171</td>\n",
       "      <td>2</td>\n",
       "      <td>23</td>\n",
       "      <td>Bumiputera</td>\n",
       "      <td>17440</td>\n",
       "    </tr>\n",
       "    <tr>\n",
       "      <th>5</th>\n",
       "      <td>Female</td>\n",
       "      <td>650324-06-1382</td>\n",
       "      <td>3</td>\n",
       "      <td>37</td>\n",
       "      <td>Bumiputera</td>\n",
       "      <td>17660</td>\n",
       "    </tr>\n",
       "  </tbody>\n",
       "</table>\n",
       "</div>"
      ],
      "text/plain": [
       "   gender              ic state_seat polling_district   ethnicity postcode\n",
       "0    Male  661123-06-4031          3               44  Bumiputera    17750\n",
       "1  Female  871217-06-8098          3               41  Bumiputera    17710\n",
       "2    Male  761213-33-3923          2               29  Bumiputera    17500\n",
       "4    Male  600920-06-5171          2               23  Bumiputera    17440\n",
       "5  Female  650324-06-1382          3               37  Bumiputera    17660"
      ]
     },
     "execution_count": 63,
     "metadata": {},
     "output_type": "execute_result"
    }
   ],
   "source": [
    "#mysample4 = voter.loc[cluster_mask, :]\n",
    "mysample4 = voter[voter.state_seat.isin(clusters)]\n",
    "mysample4.head()"
   ]
  },
  {
   "cell_type": "code",
   "execution_count": 64,
   "metadata": {},
   "outputs": [
    {
     "data": {
      "text/plain": [
       "37178"
      ]
     },
     "execution_count": 64,
     "metadata": {},
     "output_type": "execute_result"
    }
   ],
   "source": [
    "len(mysample4)"
   ]
  },
  {
   "cell_type": "code",
   "execution_count": 65,
   "metadata": {},
   "outputs": [
    {
     "data": {
      "image/png": "[encoded data removed]",
      "text/plain": [
       "<Figure size 432.25x360 with 1 Axes>"
      ]
     },
     "metadata": {
      "needs_background": "light"
     },
     "output_type": "display_data"
    }
   ],
   "source": [
    "compare_pop_sample(voter, mysample4, 'gender')"
   ]
  },
  {
   "cell_type": "code",
   "execution_count": 66,
   "metadata": {},
   "outputs": [
    {
     "data": {
      "image/png": "[encoded data removed]",
      "text/plain": [
       "<Figure size 432.25x360 with 1 Axes>"
      ]
     },
     "metadata": {
      "needs_background": "light"
     },
     "output_type": "display_data"
    }
   ],
   "source": [
    "compare_pop_sample(voter, mysample4, 'ethnicity')"
   ]
  },
  {
   "cell_type": "markdown",
   "metadata": {},
   "source": [
    "<div class = \"alert alert-block alert-danger\">\n",
    "<p>\n",
    "<b>Exercise</b>\n",
    "<p>\n",
    "Draw a one-stage cluster sample from the <code>hr</code> data set, clustered by <code>Department</code> by setting the number of clusters to <code>4</code> and using simple random sampling of clusters. Assign this to a variable of your choice and examine the resulting sample using <code>describe</code>.\n",
    "</div>"
   ]
  },
  {
   "cell_type": "code",
   "execution_count": 67,
   "metadata": {},
   "outputs": [
    {
     "data": {
      "text/html": [
       "<div>\n",
       "<style scoped>\n",
       "    .dataframe tbody tr th:only-of-type {\n",
       "        vertical-align: middle;\n",
       "    }\n",
       "\n",
       "    .dataframe tbody tr th {\n",
       "        vertical-align: top;\n",
       "    }\n",
       "\n",
       "    .dataframe thead th {\n",
       "        text-align: right;\n",
       "    }\n",
       "</style>\n",
       "<table border=\"1\" class=\"dataframe\">\n",
       "  <thead>\n",
       "    <tr style=\"text-align: right;\">\n",
       "      <th></th>\n",
       "      <th>EmployeeName</th>\n",
       "      <th>EmployeeNumber</th>\n",
       "      <th>State</th>\n",
       "      <th>Zip</th>\n",
       "      <th>DOB</th>\n",
       "      <th>Age</th>\n",
       "      <th>Sex</th>\n",
       "      <th>MaritalDesc</th>\n",
       "      <th>CitizenDesc</th>\n",
       "      <th>HispanicLatino</th>\n",
       "      <th>...</th>\n",
       "      <th>DateOfHire</th>\n",
       "      <th>DateOfTermination</th>\n",
       "      <th>ReasonForTermination</th>\n",
       "      <th>EmploymentStatus</th>\n",
       "      <th>Department</th>\n",
       "      <th>Position</th>\n",
       "      <th>PayRate</th>\n",
       "      <th>ManagerName</th>\n",
       "      <th>EmployeeSource</th>\n",
       "      <th>PerformanceScore</th>\n",
       "    </tr>\n",
       "  </thead>\n",
       "  <tbody>\n",
       "    <tr>\n",
       "      <th>0</th>\n",
       "      <td>Brown, Mia</td>\n",
       "      <td>1103024456</td>\n",
       "      <td>MA</td>\n",
       "      <td>1450</td>\n",
       "      <td>11/24/1985</td>\n",
       "      <td>32</td>\n",
       "      <td>Female</td>\n",
       "      <td>Married</td>\n",
       "      <td>US Citizen</td>\n",
       "      <td>No</td>\n",
       "      <td>...</td>\n",
       "      <td>10/27/2008</td>\n",
       "      <td>NaT</td>\n",
       "      <td>N/A - still employed</td>\n",
       "      <td>Active</td>\n",
       "      <td>Admin Offices</td>\n",
       "      <td>Accountant I</td>\n",
       "      <td>28.50</td>\n",
       "      <td>Brandon R. LeBlanc</td>\n",
       "      <td>Diversity Job Fair</td>\n",
       "      <td>Fully Meets</td>\n",
       "    </tr>\n",
       "    <tr>\n",
       "      <th>1</th>\n",
       "      <td>LaRotonda, William</td>\n",
       "      <td>1106026572</td>\n",
       "      <td>MA</td>\n",
       "      <td>1460</td>\n",
       "      <td>4/26/1984</td>\n",
       "      <td>33</td>\n",
       "      <td>Male</td>\n",
       "      <td>Divorced</td>\n",
       "      <td>US Citizen</td>\n",
       "      <td>No</td>\n",
       "      <td>...</td>\n",
       "      <td>01/06/2014</td>\n",
       "      <td>NaT</td>\n",
       "      <td>N/A - still employed</td>\n",
       "      <td>Active</td>\n",
       "      <td>Admin Offices</td>\n",
       "      <td>Accountant I</td>\n",
       "      <td>23.00</td>\n",
       "      <td>Brandon R. LeBlanc</td>\n",
       "      <td>Website Banner Ads</td>\n",
       "      <td>Fully Meets</td>\n",
       "    </tr>\n",
       "    <tr>\n",
       "      <th>2</th>\n",
       "      <td>Steans, Tyrone</td>\n",
       "      <td>1302053333</td>\n",
       "      <td>MA</td>\n",
       "      <td>2703</td>\n",
       "      <td>09/01/1986</td>\n",
       "      <td>31</td>\n",
       "      <td>Male</td>\n",
       "      <td>Single</td>\n",
       "      <td>US Citizen</td>\n",
       "      <td>No</td>\n",
       "      <td>...</td>\n",
       "      <td>9/29/2014</td>\n",
       "      <td>NaT</td>\n",
       "      <td>N/A - still employed</td>\n",
       "      <td>Active</td>\n",
       "      <td>Admin Offices</td>\n",
       "      <td>Accountant I</td>\n",
       "      <td>29.00</td>\n",
       "      <td>Brandon R. LeBlanc</td>\n",
       "      <td>Internet Search</td>\n",
       "      <td>Fully Meets</td>\n",
       "    </tr>\n",
       "    <tr>\n",
       "      <th>3</th>\n",
       "      <td>Howard, Estelle</td>\n",
       "      <td>1211050782</td>\n",
       "      <td>MA</td>\n",
       "      <td>2170</td>\n",
       "      <td>9/16/1985</td>\n",
       "      <td>32</td>\n",
       "      <td>Female</td>\n",
       "      <td>Married</td>\n",
       "      <td>US Citizen</td>\n",
       "      <td>No</td>\n",
       "      <td>...</td>\n",
       "      <td>2/16/2015</td>\n",
       "      <td>2015-04-15</td>\n",
       "      <td>N/A - still employed</td>\n",
       "      <td>Active</td>\n",
       "      <td>Admin Offices</td>\n",
       "      <td>Administrative Assistant</td>\n",
       "      <td>21.50</td>\n",
       "      <td>Brandon R. LeBlanc</td>\n",
       "      <td>Pay Per Click - Google</td>\n",
       "      <td>N/A- too early to review</td>\n",
       "    </tr>\n",
       "    <tr>\n",
       "      <th>4</th>\n",
       "      <td>Singh, Nan</td>\n",
       "      <td>1307059817</td>\n",
       "      <td>MA</td>\n",
       "      <td>2330</td>\n",
       "      <td>5/19/1988</td>\n",
       "      <td>29</td>\n",
       "      <td>Female</td>\n",
       "      <td>Single</td>\n",
       "      <td>US Citizen</td>\n",
       "      <td>No</td>\n",
       "      <td>...</td>\n",
       "      <td>05/01/2015</td>\n",
       "      <td>NaT</td>\n",
       "      <td>N/A - still employed</td>\n",
       "      <td>Active</td>\n",
       "      <td>Admin Offices</td>\n",
       "      <td>Administrative Assistant</td>\n",
       "      <td>16.56</td>\n",
       "      <td>Brandon R. LeBlanc</td>\n",
       "      <td>Website Banner Ads</td>\n",
       "      <td>N/A- too early to review</td>\n",
       "    </tr>\n",
       "    <tr>\n",
       "      <th>...</th>\n",
       "      <td>...</td>\n",
       "      <td>...</td>\n",
       "      <td>...</td>\n",
       "      <td>...</td>\n",
       "      <td>...</td>\n",
       "      <td>...</td>\n",
       "      <td>...</td>\n",
       "      <td>...</td>\n",
       "      <td>...</td>\n",
       "      <td>...</td>\n",
       "      <td>...</td>\n",
       "      <td>...</td>\n",
       "      <td>...</td>\n",
       "      <td>...</td>\n",
       "      <td>...</td>\n",
       "      <td>...</td>\n",
       "      <td>...</td>\n",
       "      <td>...</td>\n",
       "      <td>...</td>\n",
       "      <td>...</td>\n",
       "      <td>...</td>\n",
       "    </tr>\n",
       "    <tr>\n",
       "      <th>296</th>\n",
       "      <td>Patronick, Luke</td>\n",
       "      <td>1112030979</td>\n",
       "      <td>MA</td>\n",
       "      <td>1844</td>\n",
       "      <td>2/20/1979</td>\n",
       "      <td>38</td>\n",
       "      <td>Male</td>\n",
       "      <td>Single</td>\n",
       "      <td>US Citizen</td>\n",
       "      <td>No</td>\n",
       "      <td>...</td>\n",
       "      <td>11/07/2011</td>\n",
       "      <td>2015-09-07</td>\n",
       "      <td>Another position</td>\n",
       "      <td>Voluntarily Terminated</td>\n",
       "      <td>Software Engineering</td>\n",
       "      <td>Software Engineer</td>\n",
       "      <td>52.25</td>\n",
       "      <td>Alex Sweetwater</td>\n",
       "      <td>Diversity Job Fair</td>\n",
       "      <td>Exceeds</td>\n",
       "    </tr>\n",
       "    <tr>\n",
       "      <th>297</th>\n",
       "      <td>Saada, Adell</td>\n",
       "      <td>1012023185</td>\n",
       "      <td>MA</td>\n",
       "      <td>2132</td>\n",
       "      <td>7/24/1986</td>\n",
       "      <td>31</td>\n",
       "      <td>Female</td>\n",
       "      <td>Married</td>\n",
       "      <td>US Citizen</td>\n",
       "      <td>No</td>\n",
       "      <td>...</td>\n",
       "      <td>11/05/2012</td>\n",
       "      <td>NaT</td>\n",
       "      <td>N/A - still employed</td>\n",
       "      <td>Active</td>\n",
       "      <td>Software Engineering</td>\n",
       "      <td>Software Engineer</td>\n",
       "      <td>49.25</td>\n",
       "      <td>Alex Sweetwater</td>\n",
       "      <td>Pay Per Click - Google</td>\n",
       "      <td>Fully Meets</td>\n",
       "    </tr>\n",
       "    <tr>\n",
       "      <th>298</th>\n",
       "      <td>Szabo, Andrew</td>\n",
       "      <td>1201031324</td>\n",
       "      <td>MA</td>\n",
       "      <td>2140</td>\n",
       "      <td>05/06/1983</td>\n",
       "      <td>34</td>\n",
       "      <td>Male</td>\n",
       "      <td>Single</td>\n",
       "      <td>US Citizen</td>\n",
       "      <td>No</td>\n",
       "      <td>...</td>\n",
       "      <td>07/07/2014</td>\n",
       "      <td>NaT</td>\n",
       "      <td>N/A - still employed</td>\n",
       "      <td>Active</td>\n",
       "      <td>Software Engineering</td>\n",
       "      <td>Software Engineer</td>\n",
       "      <td>48.00</td>\n",
       "      <td>Alex Sweetwater</td>\n",
       "      <td>MBTA ads</td>\n",
       "      <td>Exceptional</td>\n",
       "    </tr>\n",
       "    <tr>\n",
       "      <th>299</th>\n",
       "      <td>True, Edward</td>\n",
       "      <td>1102024057</td>\n",
       "      <td>MA</td>\n",
       "      <td>2451</td>\n",
       "      <td>6/14/1983</td>\n",
       "      <td>34</td>\n",
       "      <td>Male</td>\n",
       "      <td>Single</td>\n",
       "      <td>Non-Citizen</td>\n",
       "      <td>No</td>\n",
       "      <td>...</td>\n",
       "      <td>2/18/2013</td>\n",
       "      <td>2014-04-15</td>\n",
       "      <td>medical issues</td>\n",
       "      <td>Voluntarily Terminated</td>\n",
       "      <td>Software Engineering</td>\n",
       "      <td>Software Engineer</td>\n",
       "      <td>45.42</td>\n",
       "      <td>Alex Sweetwater</td>\n",
       "      <td>Diversity Job Fair</td>\n",
       "      <td>Fully Meets</td>\n",
       "    </tr>\n",
       "    <tr>\n",
       "      <th>300</th>\n",
       "      <td>Sweetwater, Alex</td>\n",
       "      <td>1001644719</td>\n",
       "      <td>MA</td>\n",
       "      <td>2184</td>\n",
       "      <td>11/22/1966</td>\n",
       "      <td>51</td>\n",
       "      <td>Male</td>\n",
       "      <td>Single</td>\n",
       "      <td>US Citizen</td>\n",
       "      <td>No</td>\n",
       "      <td>...</td>\n",
       "      <td>8/15/2011</td>\n",
       "      <td>NaT</td>\n",
       "      <td>N/A - still employed</td>\n",
       "      <td>Active</td>\n",
       "      <td>Software Engineering</td>\n",
       "      <td>Software Engineering Manager</td>\n",
       "      <td>27.00</td>\n",
       "      <td>Jennifer Zamora</td>\n",
       "      <td>Search Engine - Google Bing Yahoo</td>\n",
       "      <td>Fully Meets</td>\n",
       "    </tr>\n",
       "  </tbody>\n",
       "</table>\n",
       "<p>62 rows × 21 columns</p>\n",
       "</div>"
      ],
      "text/plain": [
       "             EmployeeName  EmployeeNumber State   Zip         DOB Age     Sex  \\\n",
       "0              Brown, Mia      1103024456    MA  1450  11/24/1985  32  Female   \n",
       "1    LaRotonda, William        1106026572    MA  1460   4/26/1984  33    Male   \n",
       "2        Steans, Tyrone        1302053333    MA  2703  09/01/1986  31    Male   \n",
       "3         Howard, Estelle      1211050782    MA  2170   9/16/1985  32  Female   \n",
       "4             Singh, Nan       1307059817    MA  2330   5/19/1988  29  Female   \n",
       "..                    ...             ...   ...   ...         ...  ..     ...   \n",
       "296       Patronick, Luke      1112030979    MA  1844   2/20/1979  38    Male   \n",
       "297          Saada, Adell      1012023185    MA  2132   7/24/1986  31  Female   \n",
       "298         Szabo, Andrew      1201031324    MA  2140  05/06/1983  34    Male   \n",
       "299          True, Edward      1102024057    MA  2451   6/14/1983  34    Male   \n",
       "300      Sweetwater, Alex      1001644719    MA  2184  11/22/1966  51    Male   \n",
       "\n",
       "    MaritalDesc  CitizenDesc HispanicLatino  ...  DateOfHire  \\\n",
       "0       Married   US Citizen             No  ...  10/27/2008   \n",
       "1      Divorced   US Citizen             No  ...  01/06/2014   \n",
       "2        Single   US Citizen             No  ...   9/29/2014   \n",
       "3       Married   US Citizen             No  ...   2/16/2015   \n",
       "4        Single   US Citizen             No  ...  05/01/2015   \n",
       "..          ...          ...            ...  ...         ...   \n",
       "296      Single   US Citizen             No  ...  11/07/2011   \n",
       "297     Married   US Citizen             No  ...  11/05/2012   \n",
       "298      Single   US Citizen             No  ...  07/07/2014   \n",
       "299      Single  Non-Citizen             No  ...   2/18/2013   \n",
       "300      Single   US Citizen             No  ...   8/15/2011   \n",
       "\n",
       "    DateOfTermination  ReasonForTermination        EmploymentStatus  \\\n",
       "0                 NaT  N/A - still employed                  Active   \n",
       "1                 NaT  N/A - still employed                  Active   \n",
       "2                 NaT  N/A - still employed                  Active   \n",
       "3          2015-04-15  N/A - still employed                  Active   \n",
       "4                 NaT  N/A - still employed                  Active   \n",
       "..                ...                   ...                     ...   \n",
       "296        2015-09-07      Another position  Voluntarily Terminated   \n",
       "297               NaT  N/A - still employed                  Active   \n",
       "298               NaT  N/A - still employed                  Active   \n",
       "299        2014-04-15        medical issues  Voluntarily Terminated   \n",
       "300               NaT  N/A - still employed                  Active   \n",
       "\n",
       "               Department                      Position PayRate  \\\n",
       "0           Admin Offices                  Accountant I   28.50   \n",
       "1           Admin Offices                  Accountant I   23.00   \n",
       "2           Admin Offices                  Accountant I   29.00   \n",
       "3           Admin Offices      Administrative Assistant   21.50   \n",
       "4           Admin Offices      Administrative Assistant   16.56   \n",
       "..                    ...                           ...     ...   \n",
       "296  Software Engineering             Software Engineer   52.25   \n",
       "297  Software Engineering             Software Engineer   49.25   \n",
       "298  Software Engineering             Software Engineer   48.00   \n",
       "299  Software Engineering             Software Engineer   45.42   \n",
       "300  Software Engineering  Software Engineering Manager   27.00   \n",
       "\n",
       "            ManagerName                     EmployeeSource  \\\n",
       "0    Brandon R. LeBlanc                 Diversity Job Fair   \n",
       "1    Brandon R. LeBlanc                 Website Banner Ads   \n",
       "2    Brandon R. LeBlanc                    Internet Search   \n",
       "3    Brandon R. LeBlanc             Pay Per Click - Google   \n",
       "4    Brandon R. LeBlanc                 Website Banner Ads   \n",
       "..                  ...                                ...   \n",
       "296     Alex Sweetwater                 Diversity Job Fair   \n",
       "297     Alex Sweetwater             Pay Per Click - Google   \n",
       "298     Alex Sweetwater                           MBTA ads   \n",
       "299     Alex Sweetwater                 Diversity Job Fair   \n",
       "300     Jennifer Zamora  Search Engine - Google Bing Yahoo   \n",
       "\n",
       "             PerformanceScore  \n",
       "0                 Fully Meets  \n",
       "1                 Fully Meets  \n",
       "2                 Fully Meets  \n",
       "3    N/A- too early to review  \n",
       "4    N/A- too early to review  \n",
       "..                        ...  \n",
       "296                   Exceeds  \n",
       "297               Fully Meets  \n",
       "298               Exceptional  \n",
       "299               Fully Meets  \n",
       "300               Fully Meets  \n",
       "\n",
       "[62 rows x 21 columns]"
      ]
     },
     "execution_count": 67,
     "metadata": {},
     "output_type": "execute_result"
    }
   ],
   "source": [
    "# MC\n",
    "# Type your answer here.\n",
    "np.random.seed(42)\n",
    "clusters = np.random.choice(hr.Department.unique(), size = 4, replace = False)\n",
    "hr_cluster_sample = hr[hr.Department.isin(clusters)]\n",
    "hr_cluster_sample"
   ]
  },
  {
   "cell_type": "code",
   "execution_count": 68,
   "metadata": {},
   "outputs": [
    {
     "data": {
      "text/plain": [
       "array(['Admin Offices', 'Executive Office', 'Software Engineering',\n",
       "       'IT/IS'], dtype=object)"
      ]
     },
     "execution_count": 68,
     "metadata": {},
     "output_type": "execute_result"
    }
   ],
   "source": [
    "clusters"
   ]
  },
  {
   "cell_type": "code",
   "execution_count": 69,
   "metadata": {},
   "outputs": [
    {
     "data": {
      "text/plain": [
       "(array([0, 1, 2, 3, 4]), <a list of 5 Text major ticklabel objects>)"
      ]
     },
     "execution_count": 69,
     "metadata": {},
     "output_type": "execute_result"
    },
    {
     "data": {
      "image/png": "[encoded data removed]",
      "text/plain": [
       "<Figure size 432.25x360 with 1 Axes>"
      ]
     },
     "metadata": {
      "needs_background": "light"
     },
     "output_type": "display_data"
    }
   ],
   "source": [
    "# MC\n",
    "# Type your answer here.\n",
    "\n",
    "compare_pop_sample(hr, hr_cluster_sample, \"MaritalDesc\")\n",
    "plt.xticks(rotation='45')"
   ]
  },
  {
   "cell_type": "code",
   "execution_count": 70,
   "metadata": {},
   "outputs": [
    {
     "data": {
      "image/png": "[encoded data removed]",
      "text/plain": [
       "<Figure size 432.25x360 with 1 Axes>"
      ]
     },
     "metadata": {
      "needs_background": "light"
     },
     "output_type": "display_data"
    }
   ],
   "source": [
    "compare_pop_sample(hr, hr_cluster_sample, \"Sex\")"
   ]
  },
  {
   "cell_type": "markdown",
   "metadata": {},
   "source": [
    "#### Systematic Sampling\n",
    "Systematic sampling is carried out by randomly selecting an initial member of the population from the sampling frame and selecting additional members following a **pre-determined sequence**. This sequence is in the form of the index number for a member incremented/decremented by a fixed step size $h$. For example, if we start with the 5th member of the population and set a step size of $h = 2$, we will then select the 7th, 9th, 11th (so on and so forth) members of the population until we obtain a sample of desired size. Note that we can use modulo arithmetic to ensure that we don't overshoot the sample size when counting the indices.\n",
    "\n",
    "<img src='../images/Syst_Sampling.png'>"
   ]
  },
  {
   "cell_type": "markdown",
   "metadata": {},
   "source": [
    "<div class = \"alert alert-block alert-info\">\n",
    "<p>\n",
    "<b>Example</b>\n",
    "<p>\n",
    "Recall the previous example where we wanted to study the the job satisfaction of teachers in international schools in KL. To obtain a systematic sample, we index the list of teachers and pick an random number (e.g. 45) as our starting index. If we want to select 100 members with the step size being $h = 10$, then we select the 45th, 55th, 65th, ..., 445th members as our sample.\n",
    "</div>"
   ]
  },
  {
   "cell_type": "markdown",
   "metadata": {},
   "source": [
    "Systematic sampling is generally favored when the population is known to be large as it is easier to collect one large systematic sample than to draw multiple simple random samples. The conveniece however does come at the cost of bias if the data is ordered, e.g. picking 10 members from a set of 1,000 exam scores sorted in descending order will give a sample with a high average score if the step size is too small.\n",
    "\n",
    "To deal with biases such as these, there is a variation of systematic sampling called *random systematic sampling*. This method is beyond the scope of this course as it requires in-depth knowledge of probability."
   ]
  },
  {
   "cell_type": "markdown",
   "metadata": {},
   "source": [
    "<div class = \"alert alert-block alert-success\">\n",
    "<p>\n",
    "<b>Pros</b>\n",
    "<p>\n",
    "1. Only requires one instance of random selection, the remaining members are selected using a pre-determined sequence.\n",
    "<p>\n",
    "2. Easy to carry out, even with a loosely-defined sampling frame.\n",
    "<p>\n",
    "<b>Cons</b>\n",
    "<p>\n",
    "1. May introduce bias if the sampling frame is arranged to begin with.\n",
    "<p>\n",
    "2. If sub-populations exist, the resulting sample may not be representative.\n",
    "</div>"
   ]
  },
  {
   "cell_type": "markdown",
   "metadata": {},
   "source": [
    "<div class = \"alert alert-block alert-warning\">\n",
    "<p>\n",
    "<b>Guided Exercise</b>\n",
    "<p>\n",
    "    Draw a systematic sample of size $n = 250$ from the <code>voter</code> data set with step size <code>175</code>. Assign this to the variable <code>mysample5</code> and examine the resulting sample using <code>head</code> and <code>describe</code>.\n",
    "</div>"
   ]
  },
  {
   "cell_type": "code",
   "execution_count": 71,
   "metadata": {},
   "outputs": [
    {
     "data": {
      "text/html": [
       "<div>\n",
       "<style scoped>\n",
       "    .dataframe tbody tr th:only-of-type {\n",
       "        vertical-align: middle;\n",
       "    }\n",
       "\n",
       "    .dataframe tbody tr th {\n",
       "        vertical-align: top;\n",
       "    }\n",
       "\n",
       "    .dataframe thead th {\n",
       "        text-align: right;\n",
       "    }\n",
       "</style>\n",
       "<table border=\"1\" class=\"dataframe\">\n",
       "  <thead>\n",
       "    <tr style=\"text-align: right;\">\n",
       "      <th></th>\n",
       "      <th>gender</th>\n",
       "      <th>ic</th>\n",
       "      <th>state_seat</th>\n",
       "      <th>polling_district</th>\n",
       "      <th>ethnicity</th>\n",
       "      <th>postcode</th>\n",
       "    </tr>\n",
       "  </thead>\n",
       "  <tbody>\n",
       "    <tr>\n",
       "      <th>0</th>\n",
       "      <td>Male</td>\n",
       "      <td>661123-06-4031</td>\n",
       "      <td>3</td>\n",
       "      <td>44</td>\n",
       "      <td>Bumiputera</td>\n",
       "      <td>17750</td>\n",
       "    </tr>\n",
       "    <tr>\n",
       "      <th>1</th>\n",
       "      <td>Female</td>\n",
       "      <td>871217-06-8098</td>\n",
       "      <td>3</td>\n",
       "      <td>41</td>\n",
       "      <td>Bumiputera</td>\n",
       "      <td>17710</td>\n",
       "    </tr>\n",
       "    <tr>\n",
       "      <th>2</th>\n",
       "      <td>Male</td>\n",
       "      <td>761213-33-3923</td>\n",
       "      <td>2</td>\n",
       "      <td>29</td>\n",
       "      <td>Bumiputera</td>\n",
       "      <td>17500</td>\n",
       "    </tr>\n",
       "    <tr>\n",
       "      <th>3</th>\n",
       "      <td>Male</td>\n",
       "      <td>610407-33-9219</td>\n",
       "      <td>1</td>\n",
       "      <td>7</td>\n",
       "      <td>Bumiputera</td>\n",
       "      <td>17180</td>\n",
       "    </tr>\n",
       "    <tr>\n",
       "      <th>4</th>\n",
       "      <td>Male</td>\n",
       "      <td>600920-06-5171</td>\n",
       "      <td>2</td>\n",
       "      <td>23</td>\n",
       "      <td>Bumiputera</td>\n",
       "      <td>17440</td>\n",
       "    </tr>\n",
       "    <tr>\n",
       "      <th>...</th>\n",
       "      <td>...</td>\n",
       "      <td>...</td>\n",
       "      <td>...</td>\n",
       "      <td>...</td>\n",
       "      <td>...</td>\n",
       "      <td>...</td>\n",
       "    </tr>\n",
       "    <tr>\n",
       "      <th>51993</th>\n",
       "      <td>Male</td>\n",
       "      <td>870911-06-5849</td>\n",
       "      <td>2</td>\n",
       "      <td>22</td>\n",
       "      <td>Lain-lain</td>\n",
       "      <td>17430</td>\n",
       "    </tr>\n",
       "    <tr>\n",
       "      <th>51994</th>\n",
       "      <td>Male</td>\n",
       "      <td>911228-53-7615</td>\n",
       "      <td>3</td>\n",
       "      <td>40</td>\n",
       "      <td>Lain-lain</td>\n",
       "      <td>17710</td>\n",
       "    </tr>\n",
       "    <tr>\n",
       "      <th>51995</th>\n",
       "      <td>Female</td>\n",
       "      <td>631210-56-7762</td>\n",
       "      <td>3</td>\n",
       "      <td>39</td>\n",
       "      <td>Bumiputera</td>\n",
       "      <td>17690</td>\n",
       "    </tr>\n",
       "    <tr>\n",
       "      <th>51996</th>\n",
       "      <td>Male</td>\n",
       "      <td>910107-33-9815</td>\n",
       "      <td>1</td>\n",
       "      <td>20</td>\n",
       "      <td>Bumiputera</td>\n",
       "      <td>17300</td>\n",
       "    </tr>\n",
       "    <tr>\n",
       "      <th>51997</th>\n",
       "      <td>Female</td>\n",
       "      <td>850304-06-7750</td>\n",
       "      <td>1</td>\n",
       "      <td>14</td>\n",
       "      <td>Lain-lain</td>\n",
       "      <td>17230</td>\n",
       "    </tr>\n",
       "  </tbody>\n",
       "</table>\n",
       "<p>51998 rows × 6 columns</p>\n",
       "</div>"
      ],
      "text/plain": [
       "       gender              ic state_seat polling_district   ethnicity postcode\n",
       "0        Male  661123-06-4031          3               44  Bumiputera    17750\n",
       "1      Female  871217-06-8098          3               41  Bumiputera    17710\n",
       "2        Male  761213-33-3923          2               29  Bumiputera    17500\n",
       "3        Male  610407-33-9219          1                7  Bumiputera    17180\n",
       "4        Male  600920-06-5171          2               23  Bumiputera    17440\n",
       "...       ...             ...        ...              ...         ...      ...\n",
       "51993    Male  870911-06-5849          2               22   Lain-lain    17430\n",
       "51994    Male  911228-53-7615          3               40   Lain-lain    17710\n",
       "51995  Female  631210-56-7762          3               39  Bumiputera    17690\n",
       "51996    Male  910107-33-9815          1               20  Bumiputera    17300\n",
       "51997  Female  850304-06-7750          1               14   Lain-lain    17230\n",
       "\n",
       "[51998 rows x 6 columns]"
      ]
     },
     "execution_count": 71,
     "metadata": {},
     "output_type": "execute_result"
    }
   ],
   "source": [
    "voter"
   ]
  },
  {
   "cell_type": "code",
   "execution_count": 72,
   "metadata": {},
   "outputs": [],
   "source": [
    "np.random.seed(42)\n",
    "start = np.random.choice(len(voter), 1)\n",
    "h, n = 175, 250\n",
    "index = start + h * (np.arange(n))"
   ]
  },
  {
   "cell_type": "code",
   "execution_count": 73,
   "metadata": {},
   "outputs": [
    {
     "data": {
      "text/plain": [
       "array([15795])"
      ]
     },
     "execution_count": 73,
     "metadata": {},
     "output_type": "execute_result"
    }
   ],
   "source": [
    "start"
   ]
  },
  {
   "cell_type": "code",
   "execution_count": 74,
   "metadata": {},
   "outputs": [
    {
     "data": {
      "text/plain": [
       "array([15795, 15970, 16145, 16320, 16495, 16670, 16845, 17020, 17195,\n",
       "       17370, 17545, 17720, 17895, 18070, 18245, 18420, 18595, 18770,\n",
       "       18945, 19120, 19295, 19470, 19645, 19820, 19995, 20170, 20345,\n",
       "       20520, 20695, 20870, 21045, 21220, 21395, 21570, 21745, 21920,\n",
       "       22095, 22270, 22445, 22620, 22795, 22970, 23145, 23320, 23495,\n",
       "       23670, 23845, 24020, 24195, 24370, 24545, 24720, 24895, 25070,\n",
       "       25245, 25420, 25595, 25770, 25945, 26120, 26295, 26470, 26645,\n",
       "       26820, 26995, 27170, 27345, 27520, 27695, 27870, 28045, 28220,\n",
       "       28395, 28570, 28745, 28920, 29095, 29270, 29445, 29620, 29795,\n",
       "       29970, 30145, 30320, 30495, 30670, 30845, 31020, 31195, 31370,\n",
       "       31545, 31720, 31895, 32070, 32245, 32420, 32595, 32770, 32945,\n",
       "       33120, 33295, 33470, 33645, 33820, 33995, 34170, 34345, 34520,\n",
       "       34695, 34870, 35045, 35220, 35395, 35570, 35745, 35920, 36095,\n",
       "       36270, 36445, 36620, 36795, 36970, 37145, 37320, 37495, 37670,\n",
       "       37845, 38020, 38195, 38370, 38545, 38720, 38895, 39070, 39245,\n",
       "       39420, 39595, 39770, 39945, 40120, 40295, 40470, 40645, 40820,\n",
       "       40995, 41170, 41345, 41520, 41695, 41870, 42045, 42220, 42395,\n",
       "       42570, 42745, 42920, 43095, 43270, 43445, 43620, 43795, 43970,\n",
       "       44145, 44320, 44495, 44670, 44845, 45020, 45195, 45370, 45545,\n",
       "       45720, 45895, 46070, 46245, 46420, 46595, 46770, 46945, 47120,\n",
       "       47295, 47470, 47645, 47820, 47995, 48170, 48345, 48520, 48695,\n",
       "       48870, 49045, 49220, 49395, 49570, 49745, 49920, 50095, 50270,\n",
       "       50445, 50620, 50795, 50970, 51145, 51320, 51495, 51670, 51845,\n",
       "       52020, 52195, 52370, 52545, 52720, 52895, 53070, 53245, 53420,\n",
       "       53595, 53770, 53945, 54120, 54295, 54470, 54645, 54820, 54995,\n",
       "       55170, 55345, 55520, 55695, 55870, 56045, 56220, 56395, 56570,\n",
       "       56745, 56920, 57095, 57270, 57445, 57620, 57795, 57970, 58145,\n",
       "       58320, 58495, 58670, 58845, 59020, 59195, 59370])"
      ]
     },
     "execution_count": 74,
     "metadata": {},
     "output_type": "execute_result"
    }
   ],
   "source": [
    "index"
   ]
  },
  {
   "cell_type": "code",
   "execution_count": 75,
   "metadata": {},
   "outputs": [
    {
     "data": {
      "text/plain": [
       "22"
      ]
     },
     "execution_count": 75,
     "metadata": {},
     "output_type": "execute_result"
    }
   ],
   "source": [
    "52020-51998"
   ]
  },
  {
   "cell_type": "code",
   "execution_count": 76,
   "metadata": {},
   "outputs": [
    {
     "data": {
      "text/plain": [
       "array([15795, 15970, 16145, 16320, 16495, 16670, 16845, 17020, 17195,\n",
       "       17370, 17545, 17720, 17895, 18070, 18245, 18420, 18595, 18770,\n",
       "       18945, 19120, 19295, 19470, 19645, 19820, 19995, 20170, 20345,\n",
       "       20520, 20695, 20870, 21045, 21220, 21395, 21570, 21745, 21920,\n",
       "       22095, 22270, 22445, 22620, 22795, 22970, 23145, 23320, 23495,\n",
       "       23670, 23845, 24020, 24195, 24370, 24545, 24720, 24895, 25070,\n",
       "       25245, 25420, 25595, 25770, 25945, 26120, 26295, 26470, 26645,\n",
       "       26820, 26995, 27170, 27345, 27520, 27695, 27870, 28045, 28220,\n",
       "       28395, 28570, 28745, 28920, 29095, 29270, 29445, 29620, 29795,\n",
       "       29970, 30145, 30320, 30495, 30670, 30845, 31020, 31195, 31370,\n",
       "       31545, 31720, 31895, 32070, 32245, 32420, 32595, 32770, 32945,\n",
       "       33120, 33295, 33470, 33645, 33820, 33995, 34170, 34345, 34520,\n",
       "       34695, 34870, 35045, 35220, 35395, 35570, 35745, 35920, 36095,\n",
       "       36270, 36445, 36620, 36795, 36970, 37145, 37320, 37495, 37670,\n",
       "       37845, 38020, 38195, 38370, 38545, 38720, 38895, 39070, 39245,\n",
       "       39420, 39595, 39770, 39945, 40120, 40295, 40470, 40645, 40820,\n",
       "       40995, 41170, 41345, 41520, 41695, 41870, 42045, 42220, 42395,\n",
       "       42570, 42745, 42920, 43095, 43270, 43445, 43620, 43795, 43970,\n",
       "       44145, 44320, 44495, 44670, 44845, 45020, 45195, 45370, 45545,\n",
       "       45720, 45895, 46070, 46245, 46420, 46595, 46770, 46945, 47120,\n",
       "       47295, 47470, 47645, 47820, 47995, 48170, 48345, 48520, 48695,\n",
       "       48870, 49045, 49220, 49395, 49570, 49745, 49920, 50095, 50270,\n",
       "       50445, 50620, 50795, 50970, 51145, 51320, 51495, 51670, 51845,\n",
       "          22,   197,   372,   547,   722,   897,  1072,  1247,  1422,\n",
       "        1597,  1772,  1947,  2122,  2297,  2472,  2647,  2822,  2997,\n",
       "        3172,  3347,  3522,  3697,  3872,  4047,  4222,  4397,  4572,\n",
       "        4747,  4922,  5097,  5272,  5447,  5622,  5797,  5972,  6147,\n",
       "        6322,  6497,  6672,  6847,  7022,  7197,  7372])"
      ]
     },
     "execution_count": 76,
     "metadata": {},
     "output_type": "execute_result"
    }
   ],
   "source": [
    "index % len(voter)"
   ]
  },
  {
   "cell_type": "code",
   "execution_count": 77,
   "metadata": {},
   "outputs": [],
   "source": [
    "mysample5 = voter.iloc[index % len(voter),]"
   ]
  },
  {
   "cell_type": "code",
   "execution_count": 79,
   "metadata": {},
   "outputs": [
    {
     "data": {
      "text/html": [
       "<div>\n",
       "<style scoped>\n",
       "    .dataframe tbody tr th:only-of-type {\n",
       "        vertical-align: middle;\n",
       "    }\n",
       "\n",
       "    .dataframe tbody tr th {\n",
       "        vertical-align: top;\n",
       "    }\n",
       "\n",
       "    .dataframe thead th {\n",
       "        text-align: right;\n",
       "    }\n",
       "</style>\n",
       "<table border=\"1\" class=\"dataframe\">\n",
       "  <thead>\n",
       "    <tr style=\"text-align: right;\">\n",
       "      <th></th>\n",
       "      <th>gender</th>\n",
       "      <th>ic</th>\n",
       "      <th>state_seat</th>\n",
       "      <th>polling_district</th>\n",
       "      <th>ethnicity</th>\n",
       "      <th>postcode</th>\n",
       "    </tr>\n",
       "  </thead>\n",
       "  <tbody>\n",
       "    <tr>\n",
       "      <th>6672</th>\n",
       "      <td>Female</td>\n",
       "      <td>741212-32-2106</td>\n",
       "      <td>1</td>\n",
       "      <td>9</td>\n",
       "      <td>Bumiputera</td>\n",
       "      <td>17200</td>\n",
       "    </tr>\n",
       "    <tr>\n",
       "      <th>6847</th>\n",
       "      <td>Female</td>\n",
       "      <td>770830-32-7576</td>\n",
       "      <td>1</td>\n",
       "      <td>3</td>\n",
       "      <td>Bumiputera</td>\n",
       "      <td>17140</td>\n",
       "    </tr>\n",
       "    <tr>\n",
       "      <th>7022</th>\n",
       "      <td>Female</td>\n",
       "      <td>870824-33-5234</td>\n",
       "      <td>3</td>\n",
       "      <td>32</td>\n",
       "      <td>Bumiputera</td>\n",
       "      <td>17630</td>\n",
       "    </tr>\n",
       "    <tr>\n",
       "      <th>7197</th>\n",
       "      <td>Female</td>\n",
       "      <td>580421-06-3142</td>\n",
       "      <td>2</td>\n",
       "      <td>27</td>\n",
       "      <td>Bumiputera</td>\n",
       "      <td>17470</td>\n",
       "    </tr>\n",
       "    <tr>\n",
       "      <th>7372</th>\n",
       "      <td>Male</td>\n",
       "      <td>821026-32-8745</td>\n",
       "      <td>3</td>\n",
       "      <td>45</td>\n",
       "      <td>Bumiputera</td>\n",
       "      <td>17740</td>\n",
       "    </tr>\n",
       "  </tbody>\n",
       "</table>\n",
       "</div>"
      ],
      "text/plain": [
       "      gender              ic state_seat polling_district   ethnicity postcode\n",
       "6672  Female  741212-32-2106          1                9  Bumiputera    17200\n",
       "6847  Female  770830-32-7576          1                3  Bumiputera    17140\n",
       "7022  Female  870824-33-5234          3               32  Bumiputera    17630\n",
       "7197  Female  580421-06-3142          2               27  Bumiputera    17470\n",
       "7372    Male  821026-32-8745          3               45  Bumiputera    17740"
      ]
     },
     "execution_count": 79,
     "metadata": {},
     "output_type": "execute_result"
    }
   ],
   "source": [
    "mysample5.tail()"
   ]
  },
  {
   "cell_type": "code",
   "execution_count": 80,
   "metadata": {},
   "outputs": [
    {
     "data": {
      "image/png": "[encoded data removed]",
      "text/plain": [
       "<Figure size 432.25x360 with 1 Axes>"
      ]
     },
     "metadata": {
      "needs_background": "light"
     },
     "output_type": "display_data"
    }
   ],
   "source": [
    "compare_pop_sample(voter, mysample5, \"ethnicity\")\n"
   ]
  },
  {
   "cell_type": "code",
   "execution_count": 81,
   "metadata": {},
   "outputs": [
    {
     "data": {
      "image/png": "[encoded data removed]",
      "text/plain": [
       "<Figure size 432.25x360 with 1 Axes>"
      ]
     },
     "metadata": {
      "needs_background": "light"
     },
     "output_type": "display_data"
    }
   ],
   "source": [
    "compare_pop_sample(voter, mysample5, \"gender\")\n"
   ]
  },
  {
   "cell_type": "markdown",
   "metadata": {},
   "source": [
    "<div class = \"alert alert-block alert-danger\">\n",
    "<p>\n",
    "<b>Exercise</b>\n",
    "<p>\n",
    "    Draw a systematic sample of size $n = 50$ from the <code>hr</code> data set with step size <code>5</code>. Assign this to a variable of your choice and examine the resulting sample using <code>head</code> and <code>describe</code>.\n",
    "</div>"
   ]
  },
  {
   "cell_type": "code",
   "execution_count": 82,
   "metadata": {},
   "outputs": [],
   "source": [
    "# MC \n",
    "# Type your answer here.\n",
    "\n",
    "np.random.seed(42)\n",
    "\n",
    "start = np.random.choice(len(hr), 1)\n",
    "h, n = 5, 50\n",
    "index = start + h * (np.arange(n))\n",
    "hr5 = hr.iloc[index % len(hr),]"
   ]
  },
  {
   "cell_type": "code",
   "execution_count": 83,
   "metadata": {},
   "outputs": [
    {
     "data": {
      "image/png": "[encoded data removed]",
      "text/plain": [
       "<Figure size 432.25x360 with 1 Axes>"
      ]
     },
     "metadata": {
      "needs_background": "light"
     },
     "output_type": "display_data"
    }
   ],
   "source": [
    "# MC\n",
    "# Type your answer here.\n",
    "\n",
    "compare_pop_sample(hr, hr5, \"Sex\")\n"
   ]
  },
  {
   "cell_type": "code",
   "execution_count": 84,
   "metadata": {},
   "outputs": [
    {
     "data": {
      "image/png": "[encoded data removed]",
      "text/plain": [
       "<Figure size 432.25x360 with 1 Axes>"
      ]
     },
     "metadata": {
      "needs_background": "light"
     },
     "output_type": "display_data"
    }
   ],
   "source": [
    "compare_pop_sample(hr, hr5, \"MaritalDesc\")\n"
   ]
  },
  {
   "cell_type": "markdown",
   "metadata": {},
   "source": [
    "### Multistage Sampling\n",
    "As the name suggests, multistage sampling is performed by **combining** two or more of the above sampling methodologies in **series**. The objective is to retain the strengths of each technique by leveraging the *order* in which we combine these techniques."
   ]
  },
  {
   "cell_type": "markdown",
   "metadata": {},
   "source": [
    "<div class = \"alert alert-block alert-info\">\n",
    "<p>\n",
    "<b>Example</b>\n",
    "<p>\n",
    "Recall the previous example where we wanted to study the the job satisfaction of teachers in international schools in KL. Suppose we want to stratify our samples by gender of the teachers, but we would also like to conduct cluster sampling to reduce having to travel to all the different schools in KL. By combining both approaches, we can select a cluster of schools <i>then</i> pick stratified samples from each cluster.\n",
    "</div>"
   ]
  },
  {
   "cell_type": "markdown",
   "metadata": {},
   "source": [
    "As seen above, multistage sampling can introduce some complexity to the sampling process, but it does provide the best of both worlds of the combined methods when used appropriately. Ultimately, the decision to employ multistage sampling is subject to the researcher's scope of study."
   ]
  },
  {
   "cell_type": "markdown",
   "metadata": {},
   "source": [
    "<div class = \"alert alert-block alert-success\">\n",
    "<p>\n",
    "<b>Pros</b>\n",
    "<p>\n",
    "1. A well-selected combination of sampling techniques may yield a significantly better sample than the use of only one sampling technique.\n",
    "<p>\n",
    "2. Combinations such as cluster and stratified sampling result in well-represented samples that are cost-effective to collect.\n",
    "<p>\n",
    "<b>Cons</b>\n",
    "<p>\n",
    "1. Poor selection of sampling techniques to combine can compound bias.\n",
    "<p>\n",
    "2. Each additional stage introduces added complexity to the overall sampling process.\n",
    "</div>"
   ]
  },
  {
   "cell_type": "markdown",
   "metadata": {},
   "source": [
    "<div class = \"alert alert-block alert-warning\">\n",
    "<p>\n",
    "<b>Guided Exercise</b>\n",
    "<p>\n",
    "    Draw a multistage sample of size $n = 2000$ from the <code>voter</code> data set by selecting <code>2</code> random clusters from <code>state_seat</code> and stratifying each cluster by <code>ethnicity</code>. Assign this to the variable <code>mysample6</code> and examine the resulting sample using <code>head</code> and <code>describe</code>.\n",
    "</div>"
   ]
  },
  {
   "cell_type": "code",
   "execution_count": 85,
   "metadata": {},
   "outputs": [],
   "source": [
    "# stage 1: simple random sample of clusters\n",
    "np.random.seed(42)\n",
    "clusters = np.random.choice(voter.state_seat.unique(), size = 2)\n",
    "voter_stage1 = voter[voter.state_seat.isin(clusters)]\n",
    "f=2000/voter_stage1.shape[0]\n",
    "\n",
    "# stage 2: stratified sampling \n",
    "voter_2stage = voter_stage1.groupby('ethnicity').\\\n",
    "apply(lambda x: x.sample(frac = f,random_state = 42, replace=False))"
   ]
  },
  {
   "cell_type": "code",
   "execution_count": 86,
   "metadata": {},
   "outputs": [
    {
     "data": {
      "text/plain": [
       "array(['1', '3'], dtype=object)"
      ]
     },
     "execution_count": 86,
     "metadata": {},
     "output_type": "execute_result"
    }
   ],
   "source": [
    "clusters"
   ]
  },
  {
   "cell_type": "code",
   "execution_count": 87,
   "metadata": {},
   "outputs": [
    {
     "data": {
      "text/plain": [
       "0.05713959202331295"
      ]
     },
     "execution_count": 87,
     "metadata": {},
     "output_type": "execute_result"
    }
   ],
   "source": [
    "f"
   ]
  },
  {
   "cell_type": "code",
   "execution_count": 88,
   "metadata": {},
   "outputs": [
    {
     "data": {
      "text/html": [
       "<div>\n",
       "<style scoped>\n",
       "    .dataframe tbody tr th:only-of-type {\n",
       "        vertical-align: middle;\n",
       "    }\n",
       "\n",
       "    .dataframe tbody tr th {\n",
       "        vertical-align: top;\n",
       "    }\n",
       "\n",
       "    .dataframe thead th {\n",
       "        text-align: right;\n",
       "    }\n",
       "</style>\n",
       "<table border=\"1\" class=\"dataframe\">\n",
       "  <thead>\n",
       "    <tr style=\"text-align: right;\">\n",
       "      <th></th>\n",
       "      <th></th>\n",
       "      <th>gender</th>\n",
       "      <th>ic</th>\n",
       "      <th>state_seat</th>\n",
       "      <th>polling_district</th>\n",
       "      <th>ethnicity</th>\n",
       "      <th>postcode</th>\n",
       "    </tr>\n",
       "    <tr>\n",
       "      <th>ethnicity</th>\n",
       "      <th></th>\n",
       "      <th></th>\n",
       "      <th></th>\n",
       "      <th></th>\n",
       "      <th></th>\n",
       "      <th></th>\n",
       "      <th></th>\n",
       "    </tr>\n",
       "  </thead>\n",
       "  <tbody>\n",
       "    <tr>\n",
       "      <th rowspan=\"5\" valign=\"top\">Bumiputera</th>\n",
       "      <th>45206</th>\n",
       "      <td>Female</td>\n",
       "      <td>401206-33-5362</td>\n",
       "      <td>3</td>\n",
       "      <td>43</td>\n",
       "      <td>Bumiputera</td>\n",
       "      <td>17740</td>\n",
       "    </tr>\n",
       "    <tr>\n",
       "      <th>15396</th>\n",
       "      <td>Female</td>\n",
       "      <td>670607-06-1506</td>\n",
       "      <td>1</td>\n",
       "      <td>17</td>\n",
       "      <td>Bumiputera</td>\n",
       "      <td>17270</td>\n",
       "    </tr>\n",
       "    <tr>\n",
       "      <th>4776</th>\n",
       "      <td>Male</td>\n",
       "      <td>731106-32-4745</td>\n",
       "      <td>3</td>\n",
       "      <td>37</td>\n",
       "      <td>Bumiputera</td>\n",
       "      <td>17670</td>\n",
       "    </tr>\n",
       "    <tr>\n",
       "      <th>44645</th>\n",
       "      <td>Male</td>\n",
       "      <td>900909-37-4079</td>\n",
       "      <td>3</td>\n",
       "      <td>46</td>\n",
       "      <td>Bumiputera</td>\n",
       "      <td>17760</td>\n",
       "    </tr>\n",
       "    <tr>\n",
       "      <th>40056</th>\n",
       "      <td>Female</td>\n",
       "      <td>480705-06-8142</td>\n",
       "      <td>1</td>\n",
       "      <td>5</td>\n",
       "      <td>Bumiputera</td>\n",
       "      <td>17150</td>\n",
       "    </tr>\n",
       "    <tr>\n",
       "      <th>...</th>\n",
       "      <th>...</th>\n",
       "      <td>...</td>\n",
       "      <td>...</td>\n",
       "      <td>...</td>\n",
       "      <td>...</td>\n",
       "      <td>...</td>\n",
       "      <td>...</td>\n",
       "    </tr>\n",
       "    <tr>\n",
       "      <th rowspan=\"5\" valign=\"top\">Lain-lain</th>\n",
       "      <th>26588</th>\n",
       "      <td>Female</td>\n",
       "      <td>740919-33-6026</td>\n",
       "      <td>3</td>\n",
       "      <td>42</td>\n",
       "      <td>Lain-lain</td>\n",
       "      <td>17710</td>\n",
       "    </tr>\n",
       "    <tr>\n",
       "      <th>8261</th>\n",
       "      <td>Female</td>\n",
       "      <td>850807-06-5484</td>\n",
       "      <td>1</td>\n",
       "      <td>18</td>\n",
       "      <td>Lain-lain</td>\n",
       "      <td>17280</td>\n",
       "    </tr>\n",
       "    <tr>\n",
       "      <th>38355</th>\n",
       "      <td>Male</td>\n",
       "      <td>710103-33-7303</td>\n",
       "      <td>3</td>\n",
       "      <td>36</td>\n",
       "      <td>Lain-lain</td>\n",
       "      <td>17670</td>\n",
       "    </tr>\n",
       "    <tr>\n",
       "      <th>32006</th>\n",
       "      <td>Male</td>\n",
       "      <td>740606-32-9977</td>\n",
       "      <td>1</td>\n",
       "      <td>18</td>\n",
       "      <td>Lain-lain</td>\n",
       "      <td>17290</td>\n",
       "    </tr>\n",
       "    <tr>\n",
       "      <th>29988</th>\n",
       "      <td>Female</td>\n",
       "      <td>920211-32-1204</td>\n",
       "      <td>1</td>\n",
       "      <td>11</td>\n",
       "      <td>Lain-lain</td>\n",
       "      <td>17210</td>\n",
       "    </tr>\n",
       "  </tbody>\n",
       "</table>\n",
       "<p>2000 rows × 6 columns</p>\n",
       "</div>"
      ],
      "text/plain": [
       "                  gender              ic state_seat polling_district  \\\n",
       "ethnicity                                                              \n",
       "Bumiputera 45206  Female  401206-33-5362          3               43   \n",
       "           15396  Female  670607-06-1506          1               17   \n",
       "           4776     Male  731106-32-4745          3               37   \n",
       "           44645    Male  900909-37-4079          3               46   \n",
       "           40056  Female  480705-06-8142          1                5   \n",
       "...                  ...             ...        ...              ...   \n",
       "Lain-lain  26588  Female  740919-33-6026          3               42   \n",
       "           8261   Female  850807-06-5484          1               18   \n",
       "           38355    Male  710103-33-7303          3               36   \n",
       "           32006    Male  740606-32-9977          1               18   \n",
       "           29988  Female  920211-32-1204          1               11   \n",
       "\n",
       "                   ethnicity postcode  \n",
       "ethnicity                              \n",
       "Bumiputera 45206  Bumiputera    17740  \n",
       "           15396  Bumiputera    17270  \n",
       "           4776   Bumiputera    17670  \n",
       "           44645  Bumiputera    17760  \n",
       "           40056  Bumiputera    17150  \n",
       "...                      ...      ...  \n",
       "Lain-lain  26588   Lain-lain    17710  \n",
       "           8261    Lain-lain    17280  \n",
       "           38355   Lain-lain    17670  \n",
       "           32006   Lain-lain    17290  \n",
       "           29988   Lain-lain    17210  \n",
       "\n",
       "[2000 rows x 6 columns]"
      ]
     },
     "execution_count": 88,
     "metadata": {},
     "output_type": "execute_result"
    }
   ],
   "source": [
    "voter_2stage"
   ]
  },
  {
   "cell_type": "code",
   "execution_count": 89,
   "metadata": {},
   "outputs": [
    {
     "data": {
      "image/png": "[encoded data removed]",
      "text/plain": [
       "<Figure size 432.25x360 with 1 Axes>"
      ]
     },
     "metadata": {
      "needs_background": "light"
     },
     "output_type": "display_data"
    }
   ],
   "source": [
    "compare_pop_sample(voter,voter_2stage,  'ethnicity')"
   ]
  },
  {
   "cell_type": "code",
   "execution_count": 90,
   "metadata": {},
   "outputs": [
    {
     "data": {
      "image/png": "[encoded data removed]",
      "text/plain": [
       "<Figure size 432.25x360 with 1 Axes>"
      ]
     },
     "metadata": {
      "needs_background": "light"
     },
     "output_type": "display_data"
    }
   ],
   "source": [
    "compare_pop_sample(voter, voter_2stage, 'gender')"
   ]
  },
  {
   "cell_type": "markdown",
   "metadata": {},
   "source": [
    "<div class = \"alert alert-block alert-danger\">\n",
    "<p>\n",
    "<b>Exercise</b>\n",
    "<p>\n",
    "Draw a multistage sample of size $n=20$ from the <code>hr</code> data set by selecting <code>2</code> random clusters each from <code>EmployeeSource</code> and stratifying each cluster by <code>Department</code>. Assign this to a variable of your choice and examine the resulting sample using <code>head</code> and <code>describe</code>.\n",
    "</div>"
   ]
  },
  {
   "cell_type": "code",
   "execution_count": 91,
   "metadata": {},
   "outputs": [
    {
     "data": {
      "text/plain": [
       "array(['Diversity Job Fair', 'Website Banner Ads', 'Internet Search',\n",
       "       'Pay Per Click - Google', 'Monster.com', 'Other',\n",
       "       'Employee Referral', 'Search Engine - Google Bing Yahoo',\n",
       "       'Glassdoor', 'Vendor Referral', 'Professional Society',\n",
       "       'Information Session', 'Company Intranet - Partner',\n",
       "       'On-campus Recruiting', 'Billboard', 'MBTA ads', 'Word of Mouth',\n",
       "       'Social Networks - Facebook Twitter etc',\n",
       "       'On-line Web application', 'Newspager/Magazine', 'Pay Per Click',\n",
       "       'Careerbuilder'], dtype=object)"
      ]
     },
     "execution_count": 91,
     "metadata": {},
     "output_type": "execute_result"
    }
   ],
   "source": [
    "hr['EmployeeSource'].unique()"
   ]
  },
  {
   "cell_type": "code",
   "execution_count": 92,
   "metadata": {},
   "outputs": [],
   "source": [
    "# MC \n",
    "# Type your answer here.\n",
    "\n",
    "np.random.seed(42)\n",
    "clusters = np.random.choice(hr['EmployeeSource'].unique(), size = 2)\n",
    "hr_stage1 = hr[hr['EmployeeSource'].isin(clusters)]\n",
    "hr_2stage = hr_stage1.groupby(\"Department\").\\\n",
    "apply(lambda x: x.sample(frac = 20/len(hr_stage1)))"
   ]
  },
  {
   "cell_type": "code",
   "execution_count": 93,
   "metadata": {},
   "outputs": [
    {
     "data": {
      "text/plain": [
       "array(['Employee Referral', 'Newspager/Magazine'], dtype=object)"
      ]
     },
     "execution_count": 93,
     "metadata": {},
     "output_type": "execute_result"
    }
   ],
   "source": [
    "clusters"
   ]
  },
  {
   "cell_type": "code",
   "execution_count": 94,
   "metadata": {},
   "outputs": [
    {
     "data": {
      "image/png": "[encoded data removed]",
      "text/plain": [
       "<Figure size 432.25x360 with 1 Axes>"
      ]
     },
     "metadata": {
      "needs_background": "light"
     },
     "output_type": "display_data"
    }
   ],
   "source": [
    "compare_pop_sample(hr,hr_2stage, 'Department' )"
   ]
  },
  {
   "cell_type": "markdown",
   "metadata": {},
   "source": [
    "## Non-probabilistic Sampling <a name=\"noprob\"></a>\n",
    "Non-probabilistic sampling is a sampling technique in which the likelihood of a member of a population being selected for a sample is not entirely up to chance. Though easier to execute, we generally avoid non-probabilistic sampling as it yields significant **bias** compared to probabilistic methods. More often than not, non-probabilstic sampling involves sample selections that are based on the researcher's **subjective judgement**. The following sampling techniques fall under the umbrella of non-probabilistic sampling:\n",
    "1. Convenience sampling\n",
    "2. Volunteer sampling\n",
    "\n",
    "There are other types of non-probabilistic sampling (*purposive*, *quota*, etc.), but we will focus on the above two as they are the most commonly used ones. We will aslo skip the pros and cons of these techniques as they are mostly negative, i.e. yield significant bias and should be avoided as far as possible."
   ]
  },
  {
   "cell_type": "markdown",
   "metadata": {},
   "source": [
    "### Convenience Sampling\n",
    "As the name suggests, convenience sampling is the selection of members from a population based on the researcher's **ease of access** to members of the population. The following are examples of convenience sampling:\n",
    "1. A company decides to poll the first 100 customers who send them an email inquiring about their services.\n",
    "2. A marketing firm conducts a survey at a shopping mall nearby their home office.\n",
    "\n",
    "In both of the above cases, no care is given to *why* a specific person was polled/surveyed other than the fact that they were easy to contact. It goes without saying that such sampling practices will undoubtedly misrepresent the population being studied."
   ]
  },
  {
   "cell_type": "markdown",
   "metadata": {},
   "source": [
    "<div class = \"alert alert-block alert-info\">\n",
    "<p>\n",
    "<b>Example</b>\n",
    "<p>\n",
    "A company decides to poll the first 100 customers who send them an email inquiring about their services.\n",
    "A marketing firm conducts a survey at a shopping mall nearby their home office.\n",
    "</div>"
   ]
  },
  {
   "cell_type": "markdown",
   "metadata": {},
   "source": [
    "### Volunteer Sampling\n",
    "Volunteer sampling is sampling in which the participants are all **willing volunteers**. This technique can yield significant bias because the sample is *chosen by the volunteers*, not the researcher. Volunteers often have a vested interest in the discussion/topic of study and are keen to share their point of view (this isn't always a good thing).\n",
    "\n",
    "Here we see that the nature of the bias introduced differs from that of a convenience sample - the respondents here are already 'part of the system' being studied and we can expect their opinions to be skewed in favor of the researcher."
   ]
  },
  {
   "cell_type": "markdown",
   "metadata": {},
   "source": [
    "<div class = \"alert alert-block alert-info\">\n",
    "<p>\n",
    "<b>Example</b>\n",
    "<p>\n",
    "1. During a show, a television station encourages their viewers to participate in an online poll on their Facebook page.\n",
    "<p>\n",
    "2. A band polls its fans on how they rate the band at a meet and greet event.\n",
    "</div>"
   ]
  },
  {
   "cell_type": "markdown",
   "metadata": {},
   "source": [
    "<div class = \"alert alert-block alert-danger\">\n",
    "<p>\n",
    "<b>Exercise</b>\n",
    "<p>\n",
    "A researcher wishes to investigate the movie preferences of all students at a university. Listed below are various ways in which he can do this. Identify the sampling method associated with each option.\n",
    "<p>\n",
    "1. He stands outside the library and asks students passing by questions on their movie preferences.\n",
    "<p>\n",
    "2. He obtains a student directory for the university and emails a questionnaire to 200 randomly selected students.\n",
    "<p>\n",
    "3. He obtains a student directory for the university and emails a questionnaire to every 15th name on the list.\n",
    "<p>\n",
    "4. He obtains a student directory and emails a questionnaire to 20% of the students from each department.\n",
    "<p>\n",
    "5. He obtains a student directory and emails a questionnaire to all students from the Engineering and Humanities departments.\n",
    "<p>\n",
    "6. He obtains a student directory and emails a questionnaire to 25% of the students from the Engineering and Business departments.\n",
    "</div>"
   ]
  },
  {
   "cell_type": "raw",
   "metadata": {},
   "source": [
    "# MC\n",
    "# Type your answer here.\n",
    "\n",
    "1. Convenience sampling.\n",
    "2. Simple random sampling.\n",
    "3. Systematic sampling.\n",
    "4. Stratified sampling.\n",
    "5. One-stage cluster sampling.\n",
    "6. Multistage sampling (cluster + simple random sampling)."
   ]
  },
  {
   "cell_type": "markdown",
   "metadata": {},
   "source": [
    "## Summary\n",
    "To summarize:\n",
    "1. Sampling is the process of selecting a subset of the population. It is usually undertaken due to infeasibility of collecting data from the entire population.\n",
    "2. There are various sampling methodologies, each with their own strengths/weaknesses. These methodologies can be combined to yield better results, but at the cost of complexity.\n",
    "3. Sampling should always take the researcher's objectives into consideration. Assumptions about the impact of attributes should be noted upfront.\n",
    "\n",
    "The chart below gives an overview of how we should approach the sampling process. Take care, and have fun sampling!\n",
    "\n",
    "![](../images/considerations.png)"
   ]
  },
  {
   "cell_type": "markdown",
   "metadata": {},
   "source": [
    "<div class = \"alert alert-block alert-danger\">\n",
    "<p>\n",
    "<b>Exercise</b>\n",
    "<p>\n",
    "With reference to our motivational example, draw an appropriate sample from the <code>voter</code> data set for the analyst to work on. You may take the following information into account:\n",
    "<p>\n",
    "1. Candidate A is a mother of 3, whereas candidate B is a bachelor.\n",
    "<p>\n",
    "2. Both candidates stay in the same housing estate.\n",
    "<p>\n",
    "3. The analyst's budget allows for a maximum sample size of 10,000 only.\n",
    "</div>"
   ]
  },
  {
   "cell_type": "code",
   "execution_count": null,
   "metadata": {},
   "outputs": [],
   "source": [
    "# MC\n",
    "# Type your answer here.\n",
    "\n",
    "voter.head()"
   ]
  },
  {
   "cell_type": "code",
   "execution_count": null,
   "metadata": {},
   "outputs": [],
   "source": [
    "# MC\n",
    "# Type your answer here.\n",
    "\n",
    "voter_sample = voter.groupby(['gender', 'ethnicity', 'state_seat']).\\\n",
    "apply(lambda x: x.sample(frac = 10000/voter.shape[0], replace = False))"
   ]
  },
  {
   "cell_type": "code",
   "execution_count": null,
   "metadata": {},
   "outputs": [],
   "source": [
    "# MC\n",
    "# Type your answer here.\n",
    "\n",
    "pd.crosstab(voter.loc[:, \"state_seat\"], \n",
    "            voter.loc[:, \"gender\"]).round(1)"
   ]
  },
  {
   "cell_type": "code",
   "execution_count": null,
   "metadata": {},
   "outputs": [],
   "source": [
    "# MC\n",
    "# Type your answer here.\n",
    "\n",
    "pd.crosstab(voter.loc[:, \"state_seat\"], \n",
    "            voter.loc[:, \"gender\"],\n",
    "            normalize = \"index\").round(1)"
   ]
  },
  {
   "cell_type": "markdown",
   "metadata": {},
   "source": [
    "# 3. The Effect of Sample Size on Bias <a name=\"effect\"></a>\n",
    "Now that we are familiar with the various techniques involved in selecting samples, let us now discuss the impact of varying sample sizes on the accuracy of estimating our population. The code below simulates a population of $n=1000$ members and draws samples of increasing sizes to compute the relative difference between the sample and population means."
   ]
  },
  {
   "cell_type": "code",
   "execution_count": 96,
   "metadata": {},
   "outputs": [
    {
     "data": {
      "text/plain": [
       "(50.128, 29.573505172843618)"
      ]
     },
     "execution_count": 96,
     "metadata": {},
     "output_type": "execute_result"
    }
   ],
   "source": [
    "np.random.seed(42)\n",
    "\n",
    "N = 1000\n",
    "mypop = np.random.choice(100, N, replace = True) + 1\n",
    "popmean, popsd = np.mean(mypop), np.std(mypop, ddof = 1)\n",
    "popmean, popsd"
   ]
  },
  {
   "cell_type": "code",
   "execution_count": 97,
   "metadata": {},
   "outputs": [
    {
     "name": "stderr",
     "output_type": "stream",
     "text": [
      "/Users/lalehasadzadehesfahani/opt/anaconda3/lib/python3.8/site-packages/numpy/core/fromnumeric.py:3419: RuntimeWarning: Mean of empty slice.\n",
      "  return _methods._mean(a, axis=axis, dtype=dtype,\n",
      "/Users/lalehasadzadehesfahani/opt/anaconda3/lib/python3.8/site-packages/numpy/core/_methods.py:188: RuntimeWarning: invalid value encountered in double_scalars\n",
      "  ret = ret.dtype.type(ret / rcount)\n"
     ]
    }
   ],
   "source": [
    "relative_error = [abs(np.mean(np.random.choice(mypop, i)) - popmean)/popmean for i in range(N)]"
   ]
  },
  {
   "cell_type": "code",
   "execution_count": 99,
   "metadata": {
    "scrolled": false
   },
   "outputs": [
    {
     "data": {
      "image/png": "[encoded data removed]",
      "text/plain": [
       "<Figure size 360x360 with 1 Axes>"
      ]
     },
     "metadata": {
      "needs_background": "light"
     },
     "output_type": "display_data"
    }
   ],
   "source": [
    "rerror = pd.DataFrame({\"n\": np.arange(N), \n",
    "                       \"Relative error\": relative_error})\n",
    "\n",
    "sns.relplot(x = \"n\", y = \"Relative error\", kind = \"line\", data = rerror);"
   ]
  },
  {
   "cell_type": "markdown",
   "metadata": {},
   "source": [
    "As we can see from the graph, there is a clear trend for the relative difference to decrease as the sample size increases. In other words, the larger the sample size used, the better our estimates of the population will be.\n",
    "\n",
    "In practice, the calculation of an optimal sample size is done using a technique called **power analysis** which is beyond the scope of this course. We can however take a quick glance at computing the minimum sample size using our motivational example."
   ]
  },
  {
   "cell_type": "markdown",
   "metadata": {},
   "source": [
    "# Extra\n",
    "\n",
    "## Determining the Minimum Number of Voters to Sample <a name=\"power\"></a>\n",
    "To compute the minimum sample size using power analysis, we need to have 4 pieces of information:"
   ]
  },
  {
   "cell_type": "markdown",
   "metadata": {},
   "source": [
    "<div class = \"alert alert-block alert-success\">\n",
    "<p>\n",
    "1. <b>The type of statistical test we would like to run</b>\n",
    "<p>\n",
    "There are different types of statistical tests (t, chi-square, etc). Some tests are more complex and require larger samples to run effectively.\n",
    "<p>\n",
    "2. <b>Effect size</b>\n",
    "<p>\n",
    "The effect size is a measure of how small/large a change we wish to be able to detect when using a statistical test. Larger effects are easier to detect as opposed to smaller ones, and this is reflected in the minimum sample size required. A larger effect size will require a smaller sample, whereas a smaller\n",
    "effect size requires a larger sample.\n",
    "<p>\n",
    "3. <b>Significance level</b>\n",
    "<p>\n",
    "The significance level is a value between 0 and 1 that represents how likely we are to accidentally detect an effect that <i>isn't actually</i> present in our data.\n",
    "<p>\n",
    "4. <b>Power</b>\n",
    "<p>\n",
    "Power is a value between 0 and 1 that represents how likely we are to detect an effect that is <i>actually</i> present in our data.\n",
    "</div>"
   ]
  },
  {
   "cell_type": "markdown",
   "metadata": {},
   "source": [
    "In Python, power analysis can be run using the `statsmodels` package. Alternatively, there are free tools available online such as *GPower* that can also be used to compute the required sample size. For the purpose of our motivational example, we will use the following parameters:"
   ]
  },
  {
   "cell_type": "markdown",
   "metadata": {},
   "source": [
    "<div class = \"alert alert-block alert-warning\">\n",
    "<p>\n",
    "1. <b>The type of statistical test we would like to run</b>\n",
    "<p>\n",
    "&nbsp; &nbsp; We will use a proportion test, <code>p.test</code>, to determine if either candidate garners more support than the other.\n",
    "<p>\n",
    "2. <b>Effect size</b>\n",
    "<p>\n",
    "&nbsp; &nbsp; We will select an effect size of <code>h = 0.05</code>, i.e. we will only be able to detect differences of at least 0.05 in the proportion. Any differences smaller than\n",
    "<p>\n",
    "&nbsp; &nbsp; this will go unnoticed.\n",
    "<p>\n",
    "3. <b>Significance level</b>\n",
    "<p>\n",
    "&nbsp; &nbsp; We will select a significance level of <code>alpha = 0.05</code>. This means that we are only likely to accidentally detect a non-existent effect 5% of the\n",
    "<p>\n",
    "&nbsp; &nbsp; time.\n",
    "<p>\n",
    "4. <b>Power</b>\n",
    "<p>\n",
    "&nbsp; &nbsp; We will select a power of <code>power = 0.8</code>. This means that we will successfully detect an effect that is present in our data 80% of the time.\n",
    "</div>"
   ]
  },
  {
   "cell_type": "markdown",
   "metadata": {},
   "source": [
    "For the sake of brevity, we'll skip any discussion on the details of the above, including why the values given are appropriate and skip directly to the computation:"
   ]
  },
  {
   "cell_type": "code",
   "execution_count": null,
   "metadata": {},
   "outputs": [],
   "source": [
    "import statsmodels.stats.power as smp\n",
    "smp.NormalIndPower().solve_power(effect_size = 0.05, power=0.8, alpha=0.05, ratio=0)\n",
    "# If ratio=0, then effect_size is the standardized mean in the one sample test."
   ]
  },
  {
   "cell_type": "markdown",
   "metadata": {},
   "source": [
    "As we can see, the analyst would require a sample of at least 3140 voters to make a meaningful conclusion. Altering any of the 4 parameters (test type, effect size, significance level, power) will change the minimum sample size required to make a meaningful estimate of the population."
   ]
  }
 ],
 "metadata": {
  "kernelspec": {
   "display_name": "Python 3",
   "language": "python",
   "name": "python3"
  },
  "language_info": {
   "codemirror_mode": {
    "name": "ipython",
    "version": 3
   },
   "file_extension": ".py",
   "mimetype": "text/x-python",
   "name": "python",
   "nbconvert_exporter": "python",
   "pygments_lexer": "ipython3",
   "version": "3.8.3"
  }
 },
 "nbformat": 4,
 "nbformat_minor": 2
}
